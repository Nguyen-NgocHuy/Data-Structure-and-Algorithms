{
 "cells": [
  {
   "cell_type": "markdown",
   "metadata": {},
   "source": [
    "# Exception\n",
    "\n",
    "- Python has many built-in exceptions that are raised when your program encounters an error (something in the program goes wrong).\n",
    "\n",
    "\n",
    "### Python try with else clause\n",
    "In some situations, you might want to run a certain block of code if the code block inside try ran without any errors. For these cases, you can use the optional else keyword with the try statement.\n",
    "\n",
    "### Python try...finally\n",
    "The try statement in Python can have an optional finally clause. This clause is executed no matter what, and is generally used to release external resources.\n",
    "\n",
    "For example, we may be connected to a remote data center through the network or working with a file or a Graphical User Interface (GUI).\n",
    "\n",
    "In all these circumstances, we must clean up the resource before the program comes to a halt whether it successfully ran or not. These actions (closing a file, GUI or disconnecting from network) are performed in the finally clause to guarantee the execution."
   ]
  },
  {
   "cell_type": "markdown",
   "metadata": {},
   "source": [
    "### Raising Exceptions in Python"
   ]
  },
  {
   "cell_type": "code",
   "execution_count": 1,
   "metadata": {
    "scrolled": true
   },
   "outputs": [
    {
     "ename": "Exception",
     "evalue": "This is a message from base class Exception",
     "output_type": "error",
     "traceback": [
      "\u001b[1;31m---------------------------------------------------------------------------\u001b[0m",
      "\u001b[1;31mException\u001b[0m                                 Traceback (most recent call last)",
      "\u001b[1;32m<ipython-input-1-7901ca655017>\u001b[0m in \u001b[0;36m<module>\u001b[1;34m\u001b[0m\n\u001b[1;32m----> 1\u001b[1;33m \u001b[1;32mraise\u001b[0m \u001b[0mException\u001b[0m\u001b[1;33m(\u001b[0m\u001b[1;34m\"This is a message from base class Exception\"\u001b[0m\u001b[1;33m)\u001b[0m\u001b[1;33m\u001b[0m\u001b[1;33m\u001b[0m\u001b[0m\n\u001b[0m",
      "\u001b[1;31mException\u001b[0m: This is a message from base class Exception"
     ]
    }
   ],
   "source": [
    "raise Exception(\"This is a message from base class Exception\")"
   ]
  },
  {
   "cell_type": "code",
   "execution_count": 2,
   "metadata": {},
   "outputs": [
    {
     "ename": "KeyboardInterrupt",
     "evalue": "",
     "output_type": "error",
     "traceback": [
      "\u001b[1;31m---------------------------------------------------------------------------\u001b[0m",
      "\u001b[1;31mKeyboardInterrupt\u001b[0m                         Traceback (most recent call last)",
      "\u001b[1;32m<ipython-input-2-c761920b81b0>\u001b[0m in \u001b[0;36m<module>\u001b[1;34m\u001b[0m\n\u001b[1;32m----> 1\u001b[1;33m \u001b[1;32mraise\u001b[0m \u001b[0mKeyboardInterrupt\u001b[0m\u001b[1;33m\u001b[0m\u001b[1;33m\u001b[0m\u001b[0m\n\u001b[0m",
      "\u001b[1;31mKeyboardInterrupt\u001b[0m: "
     ]
    }
   ],
   "source": [
    "raise KeyboardInterrupt"
   ]
  },
  {
   "cell_type": "code",
   "execution_count": 3,
   "metadata": {},
   "outputs": [
    {
     "ename": "MemoryError",
     "evalue": "This is an argument",
     "output_type": "error",
     "traceback": [
      "\u001b[1;31m---------------------------------------------------------------------------\u001b[0m",
      "\u001b[1;31mMemoryError\u001b[0m                               Traceback (most recent call last)",
      "\u001b[1;32m<ipython-input-3-51782e52f201>\u001b[0m in \u001b[0;36m<module>\u001b[1;34m\u001b[0m\n\u001b[1;32m----> 1\u001b[1;33m \u001b[1;32mraise\u001b[0m \u001b[0mMemoryError\u001b[0m\u001b[1;33m(\u001b[0m\u001b[1;34m\"This is an argument\"\u001b[0m\u001b[1;33m)\u001b[0m\u001b[1;33m\u001b[0m\u001b[1;33m\u001b[0m\u001b[0m\n\u001b[0m",
      "\u001b[1;31mMemoryError\u001b[0m: This is an argument"
     ]
    }
   ],
   "source": [
    "raise MemoryError(\"This is an argument\")"
   ]
  },
  {
   "cell_type": "code",
   "execution_count": 4,
   "metadata": {},
   "outputs": [
    {
     "name": "stdout",
     "output_type": "stream",
     "text": [
      "Enter a positive integer: a\n",
      "invalid literal for int() with base 10: 'a'\n"
     ]
    }
   ],
   "source": [
    "try:\n",
    "    a = int(input(\"Enter a positive integer: \"))\n",
    "    if a <= 0:\n",
    "        raise ValueError(\"That is not a positive number!\")\n",
    "except ValueError as ve:\n",
    "    print(ve)"
   ]
  },
  {
   "cell_type": "markdown",
   "metadata": {},
   "source": [
    "### Python Custom Exceptions\n",
    "\n",
    "In Python, users can define custom exceptions by creating a new class. This exception class has to be derived, either directly or indirectly, from the built-in Exception class. Most of the built-in exceptions are also derived from this class."
   ]
  },
  {
   "cell_type": "code",
   "execution_count": 5,
   "metadata": {},
   "outputs": [
    {
     "name": "stdout",
     "output_type": "stream",
     "text": [
      "Enter a number: 3\n",
      "This value is too small, try again!\n",
      "\n",
      "Enter a number: 7\n",
      "This value is too small, try again!\n",
      "\n",
      "Enter a number: 45\n",
      "This value is too large, try again!\n",
      "\n",
      "Enter a number: 10\n",
      "Congratulations! You guessed it correctly.\n"
     ]
    }
   ],
   "source": [
    "# define Python user-defined exceptions\n",
    "class Error(Exception):\n",
    "    \"\"\"Base class for other exceptions\"\"\"\n",
    "    pass\n",
    "\n",
    "\n",
    "class ValueTooSmallError(Error):\n",
    "    \"\"\"Raised when the input value is too small\"\"\"\n",
    "    pass\n",
    "\n",
    "\n",
    "class ValueTooLargeError(Error):\n",
    "    \"\"\"Raised when the input value is too large\"\"\"\n",
    "    pass\n",
    "\n",
    "\n",
    "# you need to guess this number\n",
    "number = 10\n",
    "\n",
    "# user guesses a number until he/she gets it right\n",
    "while True:\n",
    "    try:\n",
    "        i_num = int(input(\"Enter a number: \"))\n",
    "        if i_num < number:\n",
    "            raise ValueTooSmallError\n",
    "        elif i_num > number:\n",
    "            raise ValueTooLargeError\n",
    "        break\n",
    "    except ValueTooSmallError:\n",
    "        print(\"This value is too small, try again!\")\n",
    "        print()\n",
    "        \n",
    "    except ValueTooLargeError:\n",
    "        print(\"This value is too large, try again!\")\n",
    "        print()\n",
    "\n",
    "print(\"Congratulations! You guessed it correctly.\")\n"
   ]
  },
  {
   "cell_type": "markdown",
   "metadata": {},
   "source": [
    "###### The inherited __str__ method of the Exception class is then used to display the corresponding message when SalaryNotInRangeError is raised. We can also customize the __str__ method itself by overriding it."
   ]
  },
  {
   "cell_type": "code",
   "execution_count": 6,
   "metadata": {},
   "outputs": [
    {
     "name": "stdout",
     "output_type": "stream",
     "text": [
      "Enter salary amount: 100\n"
     ]
    },
    {
     "ename": "SalaryNotInRangeError",
     "evalue": "100 -> Salary is not in (5000, 15000) range",
     "output_type": "error",
     "traceback": [
      "\u001b[1;31m---------------------------------------------------------------------------\u001b[0m",
      "\u001b[1;31mSalaryNotInRangeError\u001b[0m                     Traceback (most recent call last)",
      "\u001b[1;32m<ipython-input-6-c454c1331524>\u001b[0m in \u001b[0;36m<module>\u001b[1;34m\u001b[0m\n\u001b[0;32m     18\u001b[0m \u001b[0msalary\u001b[0m \u001b[1;33m=\u001b[0m \u001b[0mint\u001b[0m\u001b[1;33m(\u001b[0m\u001b[0minput\u001b[0m\u001b[1;33m(\u001b[0m\u001b[1;34m\"Enter salary amount: \"\u001b[0m\u001b[1;33m)\u001b[0m\u001b[1;33m)\u001b[0m\u001b[1;33m\u001b[0m\u001b[1;33m\u001b[0m\u001b[0m\n\u001b[0;32m     19\u001b[0m \u001b[1;32mif\u001b[0m \u001b[1;32mnot\u001b[0m \u001b[1;36m5000\u001b[0m \u001b[1;33m<\u001b[0m \u001b[0msalary\u001b[0m \u001b[1;33m<\u001b[0m \u001b[1;36m15000\u001b[0m\u001b[1;33m:\u001b[0m\u001b[1;33m\u001b[0m\u001b[1;33m\u001b[0m\u001b[0m\n\u001b[1;32m---> 20\u001b[1;33m     \u001b[1;32mraise\u001b[0m \u001b[0mSalaryNotInRangeError\u001b[0m\u001b[1;33m(\u001b[0m\u001b[0msalary\u001b[0m\u001b[1;33m)\u001b[0m\u001b[1;33m\u001b[0m\u001b[1;33m\u001b[0m\u001b[0m\n\u001b[0m",
      "\u001b[1;31mSalaryNotInRangeError\u001b[0m: 100 -> Salary is not in (5000, 15000) range"
     ]
    }
   ],
   "source": [
    "class SalaryNotInRangeError(Exception):\n",
    "    \"\"\"Exception raised for errors in the input salary.\n",
    "\n",
    "    Attributes:\n",
    "        salary -- input salary which caused the error\n",
    "        message -- explanation of the error\n",
    "    \"\"\"\n",
    "\n",
    "    def __init__(self, salary, message=\"Salary is not in (5000, 15000) range\"):\n",
    "        self.salary = salary\n",
    "        self.message = message\n",
    "        super().__init__(self.message)\n",
    "\n",
    "    def __str__(self):\n",
    "        return f'{self.salary} -> {self.message}'\n",
    "\n",
    "\n",
    "salary = int(input(\"Enter salary amount: \"))\n",
    "if not 5000 < salary < 15000:\n",
    "    raise SalaryNotInRangeError(salary)"
   ]
  },
  {
   "cell_type": "code",
   "execution_count": null,
   "metadata": {},
   "outputs": [],
   "source": []
  }
 ],
 "metadata": {
  "kernelspec": {
   "display_name": "Python 3",
   "language": "python",
   "name": "python3"
  },
  "language_info": {
   "codemirror_mode": {
    "name": "ipython",
    "version": 3
   },
   "file_extension": ".py",
   "mimetype": "text/x-python",
   "name": "python",
   "nbconvert_exporter": "python",
   "pygments_lexer": "ipython3",
   "version": "3.7.6"
  }
 },
 "nbformat": 4,
 "nbformat_minor": 4
}
