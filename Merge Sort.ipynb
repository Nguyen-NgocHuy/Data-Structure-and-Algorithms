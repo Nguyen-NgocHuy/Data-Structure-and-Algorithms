{
 "cells": [
  {
   "cell_type": "markdown",
   "metadata": {},
   "source": [
    "# Merge sort\n",
    "\n",
    "##### DESCRIPTION\n",
    "\n",
    "- Merge sort is a divide-and-conquer algorithm. Divide the problem down, to do work on each subset and then combinning solutions.\n",
    "- A sorting technique that sequences data by continuously merging items in the list. Every single item in the original unordered list is merged with another, creating groups of two. Every two-item group is merged, creating groups of four and so on until there is one ordered list.\n",
    "- Merge sort is one of the most efficient ways you can sort a list of things and typically perform much better than most other soring algorithms.\n",
    "\n",
    "\n",
    "##### DISCUSSION\n",
    "\n",
    "- Merge sort is very predictable. It makes between 0.5lg(n) and lg(n) comparisons per element, and between lg(n) and 1.5lg(n) swaps per element. The minima are achieved for already sorted data; the maxima are achieved, on average, for random data. If using Θ(n) extra space is of no concern, then merge sort is an excellent choice: It is simple to implement, and it is the only stable O(n·lg(n)) sorting algorithm. Note that when sorting linked lists, merge sort requires only Θ(lg(n)) extra space (for recursion).\n",
    "\n",
    "- Merge sort is the algorithm of choice for a variety of situations: when stability is required, when sorting linked lists, and when random access is much more expensive than sequential access (for example, external sorting on tape).\n",
    "\n",
    "- There do exist linear time in-place merge algorithms for the last step of the algorithm, but they are both expensive and complex. The complexity is justified for applications such as external sorting when Θ(n) extra space is not available.\n",
    "\n",
    "##### PROPERTIES\n",
    "- Stable\n",
    "- Θ(n) extra space for arrays (as shown)\n",
    "- Θ(lg(n)) extra space for linked lists\n",
    "- Θ(n·lg(n)) time\n",
    "(The algorithm works in O(n.logn). This is because the list is being split in log(n) calls and the merging process takes linear time in each call.)\n",
    "- Not adaptive\n",
    "- Does not require random access to data\n",
    "\n",
    "##### ALGORITHM\n",
    "###### split in half\n",
    "m = n / 2\n",
    "\n",
    "###### recursive sorts\n",
    "sort a[1..m]\n",
    "sort a[m+1..n]\n",
    "\n",
    "###### merge sorted sub-arrays using temp array\n",
    "b = copy of a[1..m] \\\n",
    "i = 1, j = m+1, k = 1 \\\n",
    "while i <= m and j <= n, \\\n",
    "&nbsp;&nbsp;&nbsp;&nbsp;&nbsp;&nbsp;    a[k++] = (a[j] < b[i]) ? a[j++] : b[i++] \\\n",
    "&nbsp;&nbsp;&nbsp;&nbsp;&nbsp;&nbsp;    → invariant: a[1..k] in final position \\\n",
    "while i <= m, \\\n",
    "&nbsp;&nbsp;&nbsp;&nbsp;&nbsp;&nbsp;    a[k++] = b[i++] \\\n",
    "&nbsp;&nbsp;&nbsp;&nbsp;&nbsp;&nbsp;    → invariant: a[1..k] in final position \\\n"
   ]
  },
  {
   "cell_type": "markdown",
   "metadata": {},
   "source": [
    "### The first version of Merge Sort\n",
    "##### Note: This merge_sort() function has no in-plance effect"
   ]
  },
  {
   "cell_type": "code",
   "execution_count": 1,
   "metadata": {},
   "outputs": [],
   "source": [
    "# Python program for implementation of MergeSort\n",
    "\n",
    "def merge(left, right):\n",
    "    print('merge between ',left, ' and ', right)\n",
    "    # initiate return list\n",
    "    newArray = []\n",
    "    \n",
    "    # Two iterators for traversing the two halves\n",
    "    i = 0\n",
    "    j = 0\n",
    "        \n",
    "    while i < len(left) and j < len(right):\n",
    "        if left[i] <= right[j]:\n",
    "            # The value from the left half has been used\n",
    "            newArray.append(left[i])\n",
    "            # Move the iterator forward\n",
    "            i += 1\n",
    "        else:\n",
    "            newArray.append(right[j])\n",
    "            j += 1\n",
    "\n",
    "\n",
    "    # For all the remaining values\n",
    "    while i < len(left):\n",
    "        newArray.append(left[i])\n",
    "        i += 1\n",
    "\n",
    "\n",
    "    while j < len(right):\n",
    "        newArray.append(right[j])\n",
    "        j += 1\n",
    "\n",
    "        \n",
    "    print('Array after sorting: ', newArray)\n",
    "    # return the new array is a merge of left and right\n",
    "    return newArray\n",
    "    \n",
    "    \n",
    "def merge_sort(array):\n",
    "\n",
    "    if len(array) == 1:\n",
    "        return array\n",
    "    \n",
    "    # split the array into left and right\n",
    "    middleIndex = len(array)//2\n",
    "    left = array[0:middleIndex].copy()\n",
    "    right = array[middleIndex:].copy()\n",
    "    print('left', left)\n",
    "    print('right', right)\n",
    "    return merge(merge_sort(left), merge_sort(right))\n",
    "\n"
   ]
  },
  {
   "cell_type": "code",
   "execution_count": 19,
   "metadata": {},
   "outputs": [
    {
     "name": "stdout",
     "output_type": "stream",
     "text": [
      "left [99, 44, 6, 2, 1]\n",
      "right [5, 63, 87, 283, 4, 0]\n",
      "left [99, 44]\n",
      "right [6, 2, 1]\n",
      "left [99]\n",
      "right [44]\n",
      "merge between  [99]  and  [44]\n",
      "Array after sorting:  [44, 99]\n",
      "left [6]\n",
      "right [2, 1]\n",
      "left [2]\n",
      "right [1]\n",
      "merge between  [2]  and  [1]\n",
      "Array after sorting:  [1, 2]\n",
      "merge between  [6]  and  [1, 2]\n",
      "Array after sorting:  [1, 2, 6]\n",
      "merge between  [44, 99]  and  [1, 2, 6]\n",
      "Array after sorting:  [1, 2, 6, 44, 99]\n",
      "left [5, 63, 87]\n",
      "right [283, 4, 0]\n",
      "left [5]\n",
      "right [63, 87]\n",
      "left [63]\n",
      "right [87]\n",
      "merge between  [63]  and  [87]\n",
      "Array after sorting:  [63, 87]\n",
      "merge between  [5]  and  [63, 87]\n",
      "Array after sorting:  [5, 63, 87]\n",
      "left [283]\n",
      "right [4, 0]\n",
      "left [4]\n",
      "right [0]\n",
      "merge between  [4]  and  [0]\n",
      "Array after sorting:  [0, 4]\n",
      "merge between  [283]  and  [0, 4]\n",
      "Array after sorting:  [0, 4, 283]\n",
      "merge between  [5, 63, 87]  and  [0, 4, 283]\n",
      "Array after sorting:  [0, 4, 5, 63, 87, 283]\n",
      "merge between  [1, 2, 6, 44, 99]  and  [0, 4, 5, 63, 87, 283]\n",
      "Array after sorting:  [0, 1, 2, 4, 5, 6, 44, 63, 87, 99, 283]\n",
      "left [99, 44, 6, 2, 1]\n",
      "right [5, 63, 87, 283, 4, 0]\n",
      "left [99, 44]\n",
      "right [6, 2, 1]\n",
      "left [99]\n",
      "right [44]\n",
      "merge between  [99]  and  [44]\n",
      "Array after sorting:  [44, 99]\n",
      "left [6]\n",
      "right [2, 1]\n",
      "left [2]\n",
      "right [1]\n",
      "merge between  [2]  and  [1]\n",
      "Array after sorting:  [1, 2]\n",
      "merge between  [6]  and  [1, 2]\n",
      "Array after sorting:  [1, 2, 6]\n",
      "merge between  [44, 99]  and  [1, 2, 6]\n",
      "Array after sorting:  [1, 2, 6, 44, 99]\n",
      "left [5, 63, 87]\n",
      "right [283, 4, 0]\n",
      "left [5]\n",
      "right [63, 87]\n",
      "left [63]\n",
      "right [87]\n",
      "merge between  [63]  and  [87]\n",
      "Array after sorting:  [63, 87]\n",
      "merge between  [5]  and  [63, 87]\n",
      "Array after sorting:  [5, 63, 87]\n",
      "left [283]\n",
      "right [4, 0]\n",
      "left [4]\n",
      "right [0]\n",
      "merge between  [4]  and  [0]\n",
      "Array after sorting:  [0, 4]\n",
      "merge between  [283]  and  [0, 4]\n",
      "Array after sorting:  [0, 4, 283]\n",
      "merge between  [5, 63, 87]  and  [0, 4, 283]\n",
      "Array after sorting:  [0, 4, 5, 63, 87, 283]\n",
      "merge between  [1, 2, 6, 44, 99]  and  [0, 4, 5, 63, 87, 283]\n",
      "Array after sorting:  [0, 1, 2, 4, 5, 6, 44, 63, 87, 99, 283]\n",
      "\n",
      "\n",
      "Sorted array is:  [0, 1, 2, 4, 5, 6, 44, 63, 87, 99, 283]\n",
      "numbers after function call [99, 44, 6, 2, 1, 5, 63, 87, 283, 4, 0]\n",
      "Thus, this merge_sort() function has no in-plane effect. The array will be changed in global scope without return\n"
     ]
    }
   ],
   "source": [
    "# Driver code to test above\n",
    "numbers = [99, 44, 6, 2, 1, 5, 63, 87, 283, 4, 0]\n",
    "\n",
    "#print(\"Given array is: \", numbers)\n",
    "    \n",
    "merge_sort(numbers)\n",
    "print(\"\\n\\nSorted array is: \",merge_sort(numbers))\n",
    "\n",
    "print('numbers after function call',numbers)\n",
    "print('Thus, this merge_sort() function has no in-plane effect. The array will be changed in global scope without return')"
   ]
  },
  {
   "cell_type": "markdown",
   "metadata": {},
   "source": [
    "### The second version of Merge Sort\n",
    "##### Note: This merge_sort() function has in-plance effect"
   ]
  },
  {
   "cell_type": "code",
   "execution_count": 22,
   "metadata": {},
   "outputs": [
    {
     "name": "stdout",
     "output_type": "stream",
     "text": [
      "[0, 1, 2, 4, 5, 6, 44, 63, 87, 99, 283]\n",
      "Thus, this merge_sort() function has no in-plane effect. The array will be changed in global scope without return\n"
     ]
    }
   ],
   "source": [
    "def mergeSort(myList):\n",
    "    if len(myList) > 1:\n",
    "        mid = len(myList) // 2\n",
    "        left = myList[:mid]\n",
    "        right = myList[mid:]\n",
    "\n",
    "        # Recursive call on each half\n",
    "        mergeSort(left)\n",
    "        mergeSort(right)\n",
    "\n",
    "        # Two iterators for traversing the two halves\n",
    "        i = 0\n",
    "        j = 0\n",
    "        \n",
    "        # Iterator for the main list\n",
    "        k = 0\n",
    "        \n",
    "        while i < len(left) and j < len(right):\n",
    "            if left[i] <= right[j]:\n",
    "              # The value from the left half has been used\n",
    "              myList[k] = left[i]\n",
    "              # Move the iterator forward\n",
    "              i += 1\n",
    "            else:\n",
    "                myList[k] = right[j]\n",
    "                j += 1\n",
    "            # Move to the next slot\n",
    "            k += 1\n",
    "\n",
    "        # For all the remaining values\n",
    "        while i < len(left):\n",
    "            myList[k] = left[i]\n",
    "            i += 1\n",
    "            k += 1\n",
    "\n",
    "        while j < len(right):\n",
    "            myList[k]=right[j]\n",
    "            j += 1\n",
    "            k += 1\n",
    "\n",
    "            \n",
    "            \n",
    "myList = [99, 44, 6, 2, 1, 5, 63, 87, 283, 4, 0]\n",
    "mergeSort(myList)\n",
    "print(myList)\n",
    "print('Thus, this merge_sort() function has no in-plane effect. The array will be changed in global scope without return')"
   ]
  },
  {
   "cell_type": "code",
   "execution_count": 23,
   "metadata": {},
   "outputs": [
    {
     "name": "stdout",
     "output_type": "stream",
     "text": [
      "[3, 5]\n",
      "[3, 5]\n"
     ]
    }
   ],
   "source": [
    "def f(x):\n",
    "    if len(x)>1:\n",
    "        x[1] = 5\n",
    "        print(x)\n",
    "\n",
    "x = [3,4]\n",
    "\n",
    "    \n",
    "f(x)\n",
    "print(x)"
   ]
  },
  {
   "cell_type": "code",
   "execution_count": 24,
   "metadata": {},
   "outputs": [
    {
     "name": "stdout",
     "output_type": "stream",
     "text": [
      "5 6\n"
     ]
    }
   ],
   "source": [
    "def change(a,b):\n",
    "    temp = a\n",
    "    a = b\n",
    "    b = temp\n",
    "        \n",
    "\n",
    "a = 5\n",
    "b = 6\n",
    "change(a,b)\n",
    "print(a,b)\n"
   ]
  },
  {
   "cell_type": "code",
   "execution_count": 25,
   "metadata": {},
   "outputs": [
    {
     "name": "stdout",
     "output_type": "stream",
     "text": [
      "[1, 7] [6, 2]\n"
     ]
    }
   ],
   "source": [
    "def change_array(n1,n2):\n",
    "    temp = n1[0]\n",
    "    n1[0] = b[0]\n",
    "    n2[0] = temp\n",
    "        \n",
    "\n",
    "a = [6,7]\n",
    "b = [1,2]\n",
    "change_array(a,b)\n",
    "print(a,b)"
   ]
  },
  {
   "cell_type": "code",
   "execution_count": 26,
   "metadata": {},
   "outputs": [
    {
     "name": "stdout",
     "output_type": "stream",
     "text": [
      "[99, 44, 6, 2, 1]\n",
      "[5, 63, 87, 283, 4, 0]\n",
      "[99, 44, 6, 2, 1, 5, 63, 87, 283, 4, 0]\n"
     ]
    }
   ],
   "source": [
    "def testScope(myList):\n",
    "    if len(myList) > 1:\n",
    "        mid = len(myList) // 2\n",
    "        left = myList[:mid]\n",
    "        right = myList[mid:]\n",
    "        \n",
    "        print(left)\n",
    "        print(right)\n",
    "        \n",
    "        left[0] = 1\n",
    "        right[0] = 1\n",
    "\n",
    "myList = [99, 44, 6, 2, 1, 5, 63, 87, 283, 4, 0]\n",
    "testScope(myList)\n",
    "print(myList)"
   ]
  }
 ],
 "metadata": {
  "kernelspec": {
   "display_name": "Python 3",
   "language": "python",
   "name": "python3"
  },
  "language_info": {
   "codemirror_mode": {
    "name": "ipython",
    "version": 3
   },
   "file_extension": ".py",
   "mimetype": "text/x-python",
   "name": "python",
   "nbconvert_exporter": "python",
   "pygments_lexer": "ipython3",
   "version": "3.7.6"
  }
 },
 "nbformat": 4,
 "nbformat_minor": 4
}
