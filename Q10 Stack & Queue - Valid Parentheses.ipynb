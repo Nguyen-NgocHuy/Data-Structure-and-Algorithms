{
 "cells": [
  {
   "cell_type": "markdown",
   "metadata": {},
   "source": [
    "# Q10 Valid Parentheses\n",
    "\n",
    "###### Description\n",
    "Given a string s containing just the characters '(', ')', '{', '}', '[' and ']', determine if the input string is valid.\n",
    "\n",
    "An input string is valid if:\n",
    "\n",
    "Open brackets must be closed by the same type of brackets.\n",
    "Open brackets must be closed in the correct order.\n",
    "\n",
    "###### Example 1:\n",
    "\n",
    "Input: s = \"()\"\n",
    "Output: true\n",
    "\n",
    "\n",
    "###### Example 2:\n",
    "\n",
    "Input: s = \"()[]{}\"\n",
    "Output: true\n",
    "    \n",
    "###### Example 3:\n",
    "\n",
    "Input: s = \"(]\"\n",
    "Output: false\n",
    "\n",
    "###### Example 4:\n",
    "\n",
    "Input: s = \"([)]\"\n",
    "Output: false\n",
    "    \n",
    "###### Example 5:\n",
    "\n",
    "Input: s = \"{[]}\"\n",
    "Output: true\n",
    "\n",
    "###### Constraints:\n",
    "1 <= s.length <= 104\n",
    "s consists of parentheses only '()[]{}'."
   ]
  },
  {
   "cell_type": "code",
   "execution_count": 17,
   "metadata": {},
   "outputs": [],
   "source": [
    "s1 = \"()\" \n",
    "s2 = \"()[]{}\" \n",
    "s3 = \"(]\"\n",
    "s4 = \"([)]\"\n",
    "s5 = \"{[]}\""
   ]
  },
  {
   "cell_type": "code",
   "execution_count": 37,
   "metadata": {},
   "outputs": [],
   "source": [
    "def isValidParentheses(input_string):\n",
    "    \n",
    "    if len(input_string) == 0:\n",
    "        return True\n",
    "    \n",
    "    stack = []\n",
    "    close_parentheses = {')':'(', '}': '{', ']':'['}\n",
    "    \n",
    "    for ele in input_string:\n",
    "        \n",
    "        if ele in close_parentheses.values():\n",
    "            stack.append(ele)\n",
    "        \n",
    "        elif ele in close_parentheses:\n",
    "            \n",
    "            if len(stack) == 0:\n",
    "                return False\n",
    "            else:\n",
    "                \n",
    "                if stack[len(stack)-1] == close_parentheses[ele]:\n",
    "                    stack.pop()\n",
    "                else:\n",
    "                    return False\n",
    " \n",
    "            \n",
    "    return len(stack)==0\n",
    "            \n",
    "    \n",
    "    "
   ]
  },
  {
   "cell_type": "code",
   "execution_count": 38,
   "metadata": {},
   "outputs": [
    {
     "name": "stdout",
     "output_type": "stream",
     "text": [
      "True\n",
      "True\n",
      "False\n",
      "False\n",
      "True\n"
     ]
    }
   ],
   "source": [
    "print(isValidParentheses(s1))\n",
    "print(isValidParentheses(s2))\n",
    "print(isValidParentheses(s3))\n",
    "print(isValidParentheses(s4))\n",
    "print(isValidParentheses(s5))"
   ]
  },
  {
   "cell_type": "code",
   "execution_count": null,
   "metadata": {},
   "outputs": [],
   "source": []
  }
 ],
 "metadata": {
  "kernelspec": {
   "display_name": "Python 3",
   "language": "python",
   "name": "python3"
  },
  "language_info": {
   "codemirror_mode": {
    "name": "ipython",
    "version": 3
   },
   "file_extension": ".py",
   "mimetype": "text/x-python",
   "name": "python",
   "nbconvert_exporter": "python",
   "pygments_lexer": "ipython3",
   "version": "3.7.6"
  }
 },
 "nbformat": 4,
 "nbformat_minor": 4
}
