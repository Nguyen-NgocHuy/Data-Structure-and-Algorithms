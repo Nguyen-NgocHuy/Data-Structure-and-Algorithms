{
 "cells": [
  {
   "cell_type": "markdown",
   "metadata": {},
   "source": [
    "# Q11 Minimum Remove to Make Valid Parentheses\n",
    "\n",
    "###### Description\n",
    "Given a string s of '(' , ')' and lowercase English characters.\n",
    "\n",
    "Your task is to remove the minimum number of parentheses ( '(' or ')', in any positions ) so that the resulting parentheses string is valid and return any valid string.\n",
    "\n",
    "###### Formally, a parentheses string is valid if and only if:\n",
    "\n",
    "- It is the empty string, contains only lowercase characters, or\n",
    "- It can be written as AB (A concatenated with B), where A and B are valid strings, or\n",
    "- It can be written as (A), where A is a valid string.\n",
    "\n",
    "###### Example 1:\n",
    "\n",
    "- Input: s = \"lee(t(c)o)de)\"\n",
    "- Output: \"lee(t(c)o)de\"\n",
    "- Explanation: \"lee(t(co)de)\" , \"lee(t(c)ode)\" would also be accepted.\n",
    "\n",
    "###### Example 2:\n",
    "\n",
    "- Input: s = \"a)b(c)d\"\n",
    "- Output: \"ab(c)d\"\n",
    "    \n",
    "###### Example 3:\n",
    "\n",
    "- Input: s = \"))((\"\n",
    "- Output: \"\"\n",
    "- Explanation: An empty string is also valid.\n",
    "\n",
    "###### Example 4:\n",
    "\n",
    "- Input: s = \"(a(b(c)d)\"\n",
    "- Output: \"a(b(c)d)\"\n",
    "\n",
    "###### Constraints:\n",
    "- 1 <= s.length <= 105\n",
    "- s[i] is either'(' , ')', or lowercase English letter."
   ]
  },
  {
   "cell_type": "code",
   "execution_count": 70,
   "metadata": {},
   "outputs": [],
   "source": [
    "s1 = \"lee(t(c)o)de)\"\n",
    "s2 = \"a)b(c)d\"\n",
    "s3 = \"))((\"\n",
    "s4 = \"(a(b(c)d)\""
   ]
  },
  {
   "cell_type": "code",
   "execution_count": 71,
   "metadata": {},
   "outputs": [
    {
     "data": {
      "text/plain": [
       "[(0, 'l'),\n",
       " (1, 'e'),\n",
       " (2, 'e'),\n",
       " (3, '('),\n",
       " (4, 't'),\n",
       " (5, '('),\n",
       " (6, 'c'),\n",
       " (7, ')'),\n",
       " (8, 'o'),\n",
       " (9, ')'),\n",
       " (10, 'd'),\n",
       " (11, 'e'),\n",
       " (12, ')')]"
      ]
     },
     "execution_count": 71,
     "metadata": {},
     "output_type": "execute_result"
    }
   ],
   "source": [
    "list(enumerate(s1))"
   ]
  },
  {
   "cell_type": "code",
   "execution_count": 96,
   "metadata": {},
   "outputs": [],
   "source": [
    "def minRemoveToMakeValid(input_string):\n",
    "  \n",
    "    stack = []\n",
    "    \n",
    "    res = list(input_string)\n",
    "    \n",
    "    for idx, ele in enumerate(res):\n",
    "        if ele == '(':\n",
    "            stack.append(idx)\n",
    "        elif ele == ')' and len(stack) == 0:\n",
    "            res[idx] = ''\n",
    "        elif ele == ')':\n",
    "            stack.pop()\n",
    "            \n",
    "    for idx in stack:\n",
    "        res[idx] = ''\n",
    "\n",
    "    return ''.join(res)\n",
    "            \n",
    "        "
   ]
  },
  {
   "cell_type": "code",
   "execution_count": 97,
   "metadata": {},
   "outputs": [
    {
     "name": "stdout",
     "output_type": "stream",
     "text": [
      "lee(t(c)o)de\n",
      "ab(c)d\n",
      "\n",
      "a(b(c)d)\n"
     ]
    }
   ],
   "source": [
    "print(minRemoveToMakeValid(s1))\n",
    "print(minRemoveToMakeValid(s2))\n",
    "print(minRemoveToMakeValid(s3))\n",
    "print(minRemoveToMakeValid(s4))"
   ]
  }
 ],
 "metadata": {
  "kernelspec": {
   "display_name": "Python 3",
   "language": "python",
   "name": "python3"
  },
  "language_info": {
   "codemirror_mode": {
    "name": "ipython",
    "version": 3
   },
   "file_extension": ".py",
   "mimetype": "text/x-python",
   "name": "python",
   "nbconvert_exporter": "python",
   "pygments_lexer": "ipython3",
   "version": "3.7.6"
  }
 },
 "nbformat": 4,
 "nbformat_minor": 4
}
