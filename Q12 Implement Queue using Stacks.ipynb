{
 "cells": [
  {
   "cell_type": "markdown",
   "metadata": {},
   "source": [
    "# Q12  Implement Queue using Stacks\n",
    "\n",
    "###### Description\n",
    "Implement a first in first out (FIFO) queue using only two stacks. The implemented queue should support all the functions of a normal queue (push, peek, pop, and empty).\n",
    "\n",
    "Implement the MyQueue class:\n",
    "\n",
    "void push(int x) Pushes element x to the back of the queue.\n",
    "int pop() Removes the element from the front of the queue and returns it.\n",
    "int peek() Returns the element at the front of the queue.\n",
    "boolean empty() Returns true if the queue is empty, false otherwise.\n",
    "Notes:\n",
    "\n",
    "You must use only standard operations of a stack, which means only push to top, peek/pop from top, size, and is empty operations are valid.\n",
    "Depending on your language, the stack may not be supported natively. You may simulate a stack using a list or deque (double-ended queue) as long as you use only a stack's standard operations.\n",
    "\n",
    "###### Example:\n",
    "\n",
    "- Input\n",
    "- [\"MyQueue\", \"push\", \"push\", \"peek\", \"pop\", \"empty\"]\n",
    "- [[], [1], [2], [], [], []]\n",
    "- Output\n",
    "- [null, null, null, 1, 1, false]\n",
    "\n",
    "###### Explanation\n",
    "MyQueue myQueue = new MyQueue(); \\\n",
    "myQueue.push(1); \\\n",
    "queue is: [1] \\\n",
    "myQueue.push(2); \\\n",
    "queue is: [1, 2] (leftmost is front of the queue)\n",
    "myQueue.peek(); \\\n",
    "return 1 \\\n",
    "myQueue.pop(); \\\n",
    "return 1, queue is [2] \\\n",
    "myQueue.empty(); \\\n",
    "return false\n",
    "\n",
    "###### Constraints:\n",
    "- 1 <= x <= 9\n",
    "- At most 100 calls will be made to push, pop, peek, and empty.\n",
    "- All the calls to pop and peek are valid."
   ]
  },
  {
   "cell_type": "code",
   "execution_count": 35,
   "metadata": {},
   "outputs": [],
   "source": [
    "class Queue:\n",
    "    \n",
    "    def __init__(self):\n",
    "        self.input = []\n",
    "        self.output = []\n",
    "        \n",
    "    def enqueue(self,val):\n",
    "        self.input.append(val)\n",
    "        \n",
    "    def dequeue(self):\n",
    "        if len(self.output) == 0:\n",
    "            for ele in self.input:\n",
    "                self.output.append(self.input.pop())\n",
    "            self.output.pop()\n",
    "    \n",
    "    def peek(self):\n",
    "        if len(self.output) == 0:\n",
    "            for ele in self.input:\n",
    "                self.output.push(self.input.pop)\n",
    "        return self.output[len(self.out)-1]\n",
    "    \n",
    "    def empty(self):\n",
    "        return len(self.input) == 0 and len(self.output) == 0"
   ]
  },
  {
   "cell_type": "code",
   "execution_count": 36,
   "metadata": {},
   "outputs": [
    {
     "name": "stdout",
     "output_type": "stream",
     "text": [
      "[1, 2] []\n",
      "[1] []\n",
      "False\n",
      "[] []\n",
      "True\n"
     ]
    }
   ],
   "source": [
    "q = Queue()\n",
    "\n",
    "q.enqueue(1)\n",
    "q.enqueue(2)\n",
    "print(q.input, q.output)\n",
    "q.dequeue()\n",
    "print(q.input, q.output)\n",
    "print(q.empty())\n",
    "q.dequeue()\n",
    "print(q.input, q.output)\n",
    "print(q.empty())"
   ]
  },
  {
   "cell_type": "code",
   "execution_count": null,
   "metadata": {},
   "outputs": [],
   "source": []
  }
 ],
 "metadata": {
  "kernelspec": {
   "display_name": "Python 3",
   "language": "python",
   "name": "python3"
  },
  "language_info": {
   "codemirror_mode": {
    "name": "ipython",
    "version": 3
   },
   "file_extension": ".py",
   "mimetype": "text/x-python",
   "name": "python",
   "nbconvert_exporter": "python",
   "pygments_lexer": "ipython3",
   "version": "3.7.6"
  }
 },
 "nbformat": 4,
 "nbformat_minor": 4
}
