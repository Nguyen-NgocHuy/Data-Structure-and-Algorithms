{
 "cells": [
  {
   "cell_type": "markdown",
   "metadata": {},
   "source": [
    "# Two Sum"
   ]
  },
  {
   "cell_type": "markdown",
   "metadata": {},
   "source": [
    "###### Description\n",
    "Given an array of integers nums and an integer target, return indices of the two numbers such that they add up to target.\n",
    "\n",
    "You may assume that each input would have exactly one solution, and you may not use the same element twice.\n",
    "\n",
    "You can return the answer in any order.\n",
    "\n",
    "###### Example 1:\n",
    "\n",
    "Input: nums = [2,7,11,15], target = 9 \\\n",
    "Output: [0,1]  \\\n",
    "Output: Because nums[0] + nums[1] == 9, we return [0, 1]. \n",
    " \n",
    "###### Example 2:\n",
    " \\\n",
    "Input: nums = [3,2,4], target = 6 \\\n",
    "Output: [1,2] \n",
    "\n",
    "###### Example 3:\n",
    " \\\n",
    "Input: nums = [3,3], target = 6 \\\n",
    "Output: [0,1] \n",
    " \n",
    "\n",
    "###### Constraints:\n",
    "\n",
    "2 <= nums.length <= 104 \\\n",
    "-109 <= nums[i] <= 109 \\\n",
    "-109 <= target <= 109 \\\n",
    "Only one valid answer exists. \n",
    " \n",
    "\n",
    "###### Follow-up: Can you come up with an algorithm that is less than O(n2) time complexity?\n",
    "\n"
   ]
  },
  {
   "cell_type": "markdown",
   "metadata": {},
   "source": [
    "### Optimal Solution using Hash Table\n",
    "\n",
    "#### Below methods have time complexity O(n)"
   ]
  },
  {
   "cell_type": "code",
   "execution_count": 8,
   "metadata": {},
   "outputs": [],
   "source": [
    "def two_sum(nums, target):\n",
    "    \n",
    "    dic = {}\n",
    "    for i, num in enumerate(nums):\n",
    "        if num in dic:\n",
    "            return [dic[num], i]\n",
    "        else:\n",
    "            dic[target - num] = i\n",
    "    \n",
    "    return None"
   ]
  },
  {
   "cell_type": "code",
   "execution_count": 17,
   "metadata": {},
   "outputs": [
    {
     "name": "stdout",
     "output_type": "stream",
     "text": [
      "[0, 2]\n",
      "[1, 3]\n",
      "[1, 3]\n"
     ]
    }
   ],
   "source": [
    "nums = [3,2,3]\n",
    "target = 6\n",
    "print(two_sum(nums,target))\n",
    "nums = [11,2,15,7]\n",
    "target = 9\n",
    "print(two_sum(nums,target))\n",
    "nums=[3, 2, 4, 6, 5]\n",
    "target = 8\n",
    "print(two_sum(nums,target))"
   ]
  },
  {
   "cell_type": "code",
   "execution_count": 15,
   "metadata": {},
   "outputs": [],
   "source": [
    "def two_sum_1(nums, target):\n",
    "    \n",
    "    hashTable = {}\n",
    "    \n",
    "    for i in range(len(nums)):\n",
    "   \n",
    "        if nums[i] in hashTable:\n",
    "            return [hashTable[nums[i]], i]\n",
    "        else:\n",
    "            hashTable[target - nums[i]] = i\n",
    "    \n",
    "    return None"
   ]
  },
  {
   "cell_type": "code",
   "execution_count": 16,
   "metadata": {},
   "outputs": [
    {
     "name": "stdout",
     "output_type": "stream",
     "text": [
      "[0, 2]\n",
      "[1, 3]\n"
     ]
    }
   ],
   "source": [
    "nums = [3,2,3]\n",
    "target = 6\n",
    "print(two_sum_1(nums,target))\n",
    "nums = [11,2,15,7]\n",
    "target = 9\n",
    "print(two_sum_1(nums,target))"
   ]
  },
  {
   "cell_type": "code",
   "execution_count": 12,
   "metadata": {},
   "outputs": [],
   "source": [
    "def two_sum_2(nums, target):\n",
    "    \n",
    "    hashTable = {}\n",
    "        \n",
    "    for i in range(len(nums)):\n",
    "        numberToFind = target-nums[i]\n",
    "        if(numberToFind in hashTable.keys()):\n",
    "            index = nums.index(numberToFind)\n",
    "            if(i != index):\n",
    "                return sorted([i, index])  \n",
    "        hashTable.update({nums[i]: i})\n",
    "    return None"
   ]
  },
  {
   "cell_type": "code",
   "execution_count": 13,
   "metadata": {},
   "outputs": [
    {
     "name": "stdout",
     "output_type": "stream",
     "text": [
      "[0, 2]\n",
      "[1, 3]\n"
     ]
    }
   ],
   "source": [
    "nums = [3,2,3]\n",
    "target = 6\n",
    "print(two_sum_2(nums,target))\n",
    "nums = [11,2,15,7]\n",
    "target = 9\n",
    "print(two_sum_2(nums,target))"
   ]
  },
  {
   "cell_type": "markdown",
   "metadata": {},
   "source": [
    "### Brute Force Method"
   ]
  },
  {
   "cell_type": "code",
   "execution_count": 1,
   "metadata": {},
   "outputs": [],
   "source": [
    "def two_sum_brute_force(nums, target):\n",
    "    \n",
    "    if len(nums) <= 1:\n",
    "        return None\n",
    "        \n",
    "    for i in range(0,len(nums)-1):\n",
    "        \n",
    "        numberToFind = target - nums[i]\n",
    "        \n",
    "        for j in range(i+1, len(nums)):\n",
    "            \n",
    "            if nums[j] == numberToFind:\n",
    "                return [i,j]\n",
    "            \n",
    "    return None\n",
    "    "
   ]
  },
  {
   "cell_type": "code",
   "execution_count": 2,
   "metadata": {},
   "outputs": [
    {
     "name": "stdout",
     "output_type": "stream",
     "text": [
      "[0, 1]\n"
     ]
    }
   ],
   "source": [
    "nums = [2,7,11,15]\n",
    "target = 9\n",
    "print(two_sum_brute_force(nums,target))"
   ]
  }
 ],
 "metadata": {
  "kernelspec": {
   "display_name": "Python 3",
   "language": "python",
   "name": "python3"
  },
  "language_info": {
   "codemirror_mode": {
    "name": "ipython",
    "version": 3
   },
   "file_extension": ".py",
   "mimetype": "text/x-python",
   "name": "python",
   "nbconvert_exporter": "python",
   "pygments_lexer": "ipython3",
   "version": "3.7.6"
  }
 },
 "nbformat": 4,
 "nbformat_minor": 4
}
