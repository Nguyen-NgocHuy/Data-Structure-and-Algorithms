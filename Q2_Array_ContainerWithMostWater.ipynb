{
 "cells": [
  {
   "attachments": {},
   "cell_type": "markdown",
   "metadata": {},
   "source": [
    "# Container With Most Water\n",
    "\n",
    "###### Description\n",
    "Given n non-negative integers a1, a2, ..., an , where each represents a point at coordinate (i, ai). n vertical lines are drawn such that the two endpoints of the line i is at (i, ai) and (i, 0). Find two lines, which, together with the x-axis forms a container, such that the container contains the most water.\n",
    "\n",
    "__Notice__ that you may not slant the container.\n",
    "\n",
    "###### Example 1:\n",
    "\n",
    "<img alt=\"\" src=\"https://s3-lc-upload.s3.amazonaws.com/uploads/2018/07/17/question_11.jpg\" style=\"width: 600px; height: 287px;\">\n",
    "\n",
    "Input: height = [1,8,6,2,5,4,8,3,7] \\\n",
    "Output: 49 \\\n",
    "\n",
    "###### Explanation: \n",
    "The above vertical lines are represented by array [1,8,6,2,5,4,8,3,7]. In this case, the max area of water (blue section) the container can contain is 49.\n",
    "\n",
    "###### Example 2:\n",
    "\n",
    "Input: height = [1,1] \\\n",
    "Output: 1\n",
    "###### Example 3:\n",
    "\n",
    "Input: height = [4,3,2,1,4] \\\n",
    "Output: 16\n",
    "###### Example 4:\n",
    "\n",
    "Input: height = [1,2,1] \\\n",
    "Output: 2\n",
    " \n",
    "\n",
    "###### Constraints:\n",
    "\n",
    "n == height.length \\\n",
    "2 <= n <= 105 \\\n",
    "0 <= height[i] <= 104"
   ]
  },
  {
   "cell_type": "code",
   "execution_count": 2,
   "metadata": {},
   "outputs": [],
   "source": [
    "def maxArea_1(height):\n",
    "\n",
    "    maxArea = 0\n",
    "    \n",
    "    for i in range(len(height)-1):\n",
    "        for j in range(i+1, len(height)):\n",
    "                area = min(height[i], height[j])*(j-i)\n",
    "                if area > maxArea:\n",
    "                    maxArea = area\n",
    "        \n",
    "    return maxArea"
   ]
  },
  {
   "cell_type": "code",
   "execution_count": 9,
   "metadata": {},
   "outputs": [],
   "source": [
    "def maxArea(height):\n",
    "\n",
    "    maxArea = 0\n",
    "    \n",
    "    for i,h1 in enumerate(height):\n",
    "        for j,h2 in enumerate(height):\n",
    "                if i!=j and min(height[i], height[j])*(j-i) > maxArea:\n",
    "                    maxArea = min(height[i], height[j])*(j-i)\n",
    "        \n",
    "    return maxArea"
   ]
  },
  {
   "cell_type": "code",
   "execution_count": 10,
   "metadata": {},
   "outputs": [
    {
     "name": "stdout",
     "output_type": "stream",
     "text": [
      "49\n",
      "1\n",
      "16\n",
      "2\n"
     ]
    }
   ],
   "source": [
    "height = [1,8,6,2,5,4,8,3,7]\n",
    "print(maxArea(height))\n",
    "height = [1,1]\n",
    "print(maxArea(height))\n",
    "height = [4,3,2,1,4]\n",
    "print(maxArea(height))\n",
    "height = [1,2,1]\n",
    "print(maxArea(height))"
   ]
  },
  {
   "cell_type": "code",
   "execution_count": null,
   "metadata": {},
   "outputs": [],
   "source": []
  }
 ],
 "metadata": {
  "kernelspec": {
   "display_name": "Python 3",
   "language": "python",
   "name": "python3"
  },
  "language_info": {
   "codemirror_mode": {
    "name": "ipython",
    "version": 3
   },
   "file_extension": ".py",
   "mimetype": "text/x-python",
   "name": "python",
   "nbconvert_exporter": "python",
   "pygments_lexer": "ipython3",
   "version": "3.7.6"
  }
 },
 "nbformat": 4,
 "nbformat_minor": 4
}
