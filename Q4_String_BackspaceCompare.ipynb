{
 "cells": [
  {
   "cell_type": "markdown",
   "metadata": {},
   "source": [
    "# Backspace String Compare\n",
    "\n",
    "###### Description\n",
    "Given two strings s and t, return true if they are equal when both are typed into empty text editors. '#' means a backspace character.\n",
    "\n",
    "__Note__ that after backspacing an empty text, the text will continue empty.\n",
    "\n",
    "###### Example 1:\n",
    "\n",
    "Input: s = \"ab#c\", t = \"ad#c\" \\\n",
    "Output: true \\\n",
    "Explanation: Both s and t become \"ac\".\n",
    "\n",
    "###### Example 2:\n",
    "\n",
    "Input: s = \"ab##\", t = \"c#d#\" \\\n",
    "Output: true \\\n",
    "Explanation: Both s and t become \"\".\n",
    "\n",
    "###### Example 3:\n",
    "\n",
    "Input: s = \"a##c\", t = \"#a#c\" \\\n",
    "Output: true \\\n",
    "Explanation: Both s and t become \"c\".\n",
    "\n",
    "###### Example 4:\n",
    "\n",
    "Input: s = \"a#c\", t = \"b\" \\\n",
    "Output: false \\\n",
    "Explanation: s becomes \"c\" while t becomes \"b\".\n",
    " \n",
    "\n",
    "###### Constraints:\n",
    "\n",
    "1 <= s.length, t.length <= 200 \\\n",
    "s and t only contain lowercase letters and '#' characters."
   ]
  },
  {
   "cell_type": "code",
   "execution_count": 80,
   "metadata": {},
   "outputs": [],
   "source": [
    "s1, t1 = \"ab#c\", \"ad#c\"\n",
    "s2, t2 = \"ab##\", \"c#d#\"\n",
    "s3, t3 = \"a##c\", \"#a#c\"\n",
    "s4, t4 = \"bxj##tw\",\"bxj###tw\"\n",
    "s5, t5 = \"xywrrmp\", \"xywrrmu#p\"\n",
    "s6, t6 = \"ab##\", \"c#d#\"\n",
    "s7, t7 = \"aaa###a\", \"aaaa###a\""
   ]
  },
  {
   "cell_type": "markdown",
   "metadata": {},
   "source": [
    "### Optimal Solution with two pointers approach\n",
    "\n",
    "Time Complexity: __O(a+b)__ \\\n",
    "Space Complexity: __O(1)__"
   ]
  },
  {
   "cell_type": "code",
   "execution_count": 92,
   "metadata": {},
   "outputs": [
    {
     "name": "stdout",
     "output_type": "stream",
     "text": [
      "True\n",
      "True\n",
      "True\n",
      "False\n",
      "True\n",
      "True\n",
      "False\n"
     ]
    }
   ],
   "source": [
    "def backspaceCompare(s, t):\n",
    "    \n",
    "    # setup for 2 pointer\n",
    "    p1, p2 = len(s)-1, len(t)-1\n",
    "\n",
    "    while p1>=0 or p2>=0:\n",
    "        if s[p1] == '#' or t[p2] == '#':\n",
    "            if s[p1] == '#':\n",
    "                backcount = 2\n",
    "                while backcount > 0:\n",
    "                    p1, backcount = p1-1, backcount-1\n",
    "                    #print('p1= ',p1,' ;backcount1= ',backcount1)\n",
    "                    if p1 < 0:\n",
    "                        break\n",
    "                    if s[p1] == '#':\n",
    "                        backcount += 2                    \n",
    "            if t[p2] == '#':\n",
    "                backcount = 2\n",
    "                while backcount > 0:\n",
    "                    p2, backcount = p2-1, backcount-1\n",
    "                    #print('p2= ',p2,' ;backcount2= ',backcount2)\n",
    "                    if p2 < 0:\n",
    "                        break\n",
    "                    if t[p2] == '#':\n",
    "                        backcount += 2  \n",
    "        else:\n",
    "            if (p1<0) or (p2<0):\n",
    "                if p1>=0 or p2>=0:\n",
    "                    return False\n",
    "                else:\n",
    "                    return True \n",
    "            \n",
    "            elif s[p1] != t[p2]:\n",
    "                return False\n",
    "\n",
    "            else:\n",
    "                p1, p2 = p1-1, p2-1\n",
    "                \n",
    "    return True\n",
    "                \n",
    "                    \n",
    "print(backspaceCompare(s1,t1))\n",
    "print(backspaceCompare(s2,t2))\n",
    "print(backspaceCompare(s3,t3))\n",
    "print(backspaceCompare(s4,t4))         \n",
    "print(backspaceCompare(s5,t5))\n",
    "print(backspaceCompare(s6,t6))\n",
    "print(backspaceCompare(s7,t7))"
   ]
  },
  {
   "cell_type": "code",
   "execution_count": null,
   "metadata": {},
   "outputs": [],
   "source": [
    "class Solution(object):\n",
    "    def backspaceCompare(self, S, T):\n",
    "        \"\"\"\n",
    "        :type S: str\n",
    "        :type T: str\n",
    "        :rtype: bool\n",
    "        \"\"\"\n",
    "        i,j=len(S)-1,len(T)-1\n",
    "        \n",
    "        while((i>=0) or j>=0):\n",
    "            print(i,j,S[i],T[j])\n",
    "            if (i>=0 and S[i]==\"#\") or (j>=0 and T[j]==\"#\"):\n",
    "                if (i>=0 and S[i]==\"#\"):\n",
    "                    backCount=2\n",
    "                    while(backCount>0 and i>=0):\n",
    "                        backCount=backCount-1\n",
    "                        i=i-1\n",
    "                        if S[i]==\"#\":\n",
    "                            backCount=backCount+2\n",
    "                if (j>=0 and T[j]==\"#\"):\n",
    "                    backCount=2\n",
    "                    while(backCount>0 and j>=0):\n",
    "                        backCount=backCount-1\n",
    "                        j=j-1\n",
    "                        if T[j]==\"#\":\n",
    "                            backCount=backCount+2\n",
    "            else:\n",
    "                if(i>=0)==(j>=0):\n",
    "                    if S[i]!=T[j]:\n",
    "                        return False\n",
    "                    i,j=i-1,j-1\n",
    "                else:\n",
    "                    return False\n",
    "        return True"
   ]
  },
  {
   "cell_type": "markdown",
   "metadata": {},
   "source": [
    "### Brute Force method\n",
    "\n",
    "Time Complexity: __O(a+b)__ \\\n",
    "Space Complexity: __O(a+b)__"
   ]
  },
  {
   "cell_type": "code",
   "execution_count": 89,
   "metadata": {},
   "outputs": [
    {
     "name": "stdout",
     "output_type": "stream",
     "text": [
      "True\n",
      "True\n",
      "True\n",
      "False\n"
     ]
    }
   ],
   "source": [
    "def buildString(s):\n",
    "    realS = []\n",
    "    for letter in s:\n",
    "        if letter !='#':\n",
    "            realS.append(letter)\n",
    "        elif realS != []:\n",
    "            realS.pop()\n",
    "    return ('').join(realS)\n",
    "    \n",
    "\n",
    "def backspaceCompare(s, t):\n",
    "    if s == t:\n",
    "        return True\n",
    "    \n",
    "    return buildString(s) == buildString(t)\n",
    "\n",
    "print(backspaceCompare(s1,t1))\n",
    "print(backspaceCompare(s2,t2))\n",
    "print(backspaceCompare(s3,t3))\n",
    "print(backspaceCompare(s4,t4))"
   ]
  },
  {
   "cell_type": "code",
   "execution_count": null,
   "metadata": {},
   "outputs": [],
   "source": []
  }
 ],
 "metadata": {
  "kernelspec": {
   "display_name": "Python 3",
   "language": "python",
   "name": "python3"
  },
  "language_info": {
   "codemirror_mode": {
    "name": "ipython",
    "version": 3
   },
   "file_extension": ".py",
   "mimetype": "text/x-python",
   "name": "python",
   "nbconvert_exporter": "python",
   "pygments_lexer": "ipython3",
   "version": "3.7.6"
  }
 },
 "nbformat": 4,
 "nbformat_minor": 4
}
