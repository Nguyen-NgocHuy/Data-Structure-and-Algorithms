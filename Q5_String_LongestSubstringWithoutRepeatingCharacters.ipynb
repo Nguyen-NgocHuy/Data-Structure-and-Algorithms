{
 "cells": [
  {
   "cell_type": "markdown",
   "metadata": {},
   "source": [
    "# Longest Substring Without Repeating Characters\n",
    "\n",
    "###### Description\n",
    "Given a string s, find the length of the longest substring without repeating characters.\n",
    "\n",
    "###### Example 1:\n",
    "\n",
    "- Input: s = \"abcabcbb\"\n",
    "- Output: 3\n",
    "- Explanation: The answer is \"abc\", with the length of 3.\n",
    "\n",
    "###### Example 2:\n",
    "\n",
    "- Input: s = \"bbbbb\"\n",
    "- Output: 1\n",
    "- Explanation: The answer is \"b\", with the length of 1.\n",
    "\n",
    "###### Example 3:\n",
    "\n",
    "- Input: s = \"pwwkew\"\n",
    "- Output: 3\n",
    "- Explanation: The answer is \"wke\", with the length of 3.\n",
    "Notice that the answer must be a substring, \"pwke\" is a subsequence and not a substring.\n",
    "\n",
    "###### Example 4:\n",
    "\n",
    "- Input: s = \"\"\n",
    "- Output: 0\n",
    "\n",
    "###### Constraints:\n",
    "\n",
    "- 0 <= s.length <= 5 * 10^4\n",
    "- s consists of English letters, digits, symbols and spaces."
   ]
  },
  {
   "cell_type": "code",
   "execution_count": 2,
   "metadata": {},
   "outputs": [
    {
     "name": "stdout",
     "output_type": "stream",
     "text": [
      "abca\n"
     ]
    }
   ],
   "source": [
    "s1 = \"abcabcbb\"\n",
    "s2 = \"bbbbb\"\n",
    "s3 = \"pwwkew\"\n",
    "s4 = \"\"\n",
    "s5 = \"cd\"\n",
    "print(s1[0:4])"
   ]
  },
  {
   "cell_type": "markdown",
   "metadata": {},
   "source": [
    "### Optimal Solution with Slidiing Window technique\n",
    "\n",
    "- The sliding window technique is actually very similar to the two points of technique: Form a window over some __portion__ of __sequential__ data, then __move__ that window throughout the data to __capture__ different parts of it.\n",
    "\n",
    "- Sequential data just means data where the order in which the data appears is important\n",
    "\n",
    "- Sliding Window is used for String, Array and even Linked Lists\n",
    "\n",
    "- Time Complexity: __O(n)__\n",
    "- Space Complexity: __O(n)__"
   ]
  },
  {
   "cell_type": "code",
   "execution_count": 25,
   "metadata": {},
   "outputs": [
    {
     "name": "stdout",
     "output_type": "stream",
     "text": [
      "3\n",
      "1\n",
      "3\n",
      "0\n",
      "2\n"
     ]
    }
   ],
   "source": [
    "def lengthOfLongestSubstring(s):\n",
    "    \n",
    "    if len(s) <= 1: return len(s)\n",
    "\n",
    "    seen = {}\n",
    "    left, longest = 0, 0\n",
    "    \n",
    "    for right in range(len(s)):\n",
    "        \n",
    "        currentChar = s[right]\n",
    "        possiblePreviousIdxChar = seen.get(currentChar,-1)\n",
    "\n",
    "        if possiblePreviousIdxChar >= left:\n",
    "            left = possiblePreviousIdxChar + 1\n",
    "        \n",
    "        seen[currentChar] = right\n",
    "        \n",
    "        longest = max(longest, right-left+1)\n",
    "        \n",
    "    return longest\n",
    "    \n",
    "print(lengthOfLongestSubstring(s1))\n",
    "print(lengthOfLongestSubstring(s2))\n",
    "print(lengthOfLongestSubstring(s3))\n",
    "print(lengthOfLongestSubstring(s4))\n",
    "print(lengthOfLongestSubstring(s5))   \n",
    "    "
   ]
  },
  {
   "cell_type": "code",
   "execution_count": 24,
   "metadata": {},
   "outputs": [
    {
     "name": "stdout",
     "output_type": "stream",
     "text": [
      "3\n",
      "1\n",
      "3\n",
      "0\n",
      "2\n"
     ]
    }
   ],
   "source": [
    "def lengthOfLongestSubstring(s):\n",
    "    \n",
    "    if len(s) <= 1: return len(s)\n",
    "\n",
    "    usedChar = {}\n",
    "    left, maxLen = 0, 0\n",
    "    \n",
    "    for right in range(len(s)):\n",
    "\n",
    "        if s[right] in usedChar and  left <= usedChar.get(s[right]):\n",
    "            left = usedChar.get(s[right]) + 1\n",
    "        \n",
    "        usedChar[s[right]] = right\n",
    "        \n",
    "        maxLen = max(maxLen, right-left+1)\n",
    "        \n",
    "    return maxLen\n",
    "    \n",
    "print(lengthOfLongestSubstring(s1))\n",
    "print(lengthOfLongestSubstring(s2))\n",
    "print(lengthOfLongestSubstring(s3))\n",
    "print(lengthOfLongestSubstring(s4))\n",
    "print(lengthOfLongestSubstring(s5))   \n",
    "    "
   ]
  },
  {
   "cell_type": "markdown",
   "metadata": {},
   "source": [
    "### The Brute Force Method\n",
    "\n",
    "- Time Complexity: __O(N^2)__\n",
    "- Space Complexity: __O(1)__\n"
   ]
  },
  {
   "cell_type": "code",
   "execution_count": 3,
   "metadata": {},
   "outputs": [
    {
     "name": "stdout",
     "output_type": "stream",
     "text": [
      "3\n",
      "1\n",
      "3\n",
      "0\n",
      "2\n"
     ]
    }
   ],
   "source": [
    "def lengthOfLongestSubstring(s):\n",
    "    \n",
    "    \n",
    "    if len(s)>0:\n",
    "        maxLen = 1\n",
    "    else:\n",
    "        maxLen = 0\n",
    "        \n",
    "    for i in range(len(s)):\n",
    "        \n",
    "        for j in range(i+1, len(s)):\n",
    "            #print('j =', j)\n",
    "            #print('substring ', s[i:j],' with length of ', len(s[i:j]), ' contains letter ', s[j], '?')\n",
    "            \n",
    "            if s[j] not in s[i:j]:\n",
    "                maxLen = max(maxLen, len(s[i:j+1]))\n",
    "                #print('maxLen =', maxLen)\n",
    "            else:\n",
    "                break\n",
    "                \n",
    "    return maxLen\n",
    "    \n",
    "print(lengthOfLongestSubstring(s1))\n",
    "print(lengthOfLongestSubstring(s2))\n",
    "print(lengthOfLongestSubstring(s3))\n",
    "print(lengthOfLongestSubstring(s4))\n",
    "print(lengthOfLongestSubstring(s5))"
   ]
  },
  {
   "cell_type": "code",
   "execution_count": null,
   "metadata": {},
   "outputs": [],
   "source": []
  }
 ],
 "metadata": {
  "kernelspec": {
   "display_name": "Python 3",
   "language": "python",
   "name": "python3"
  },
  "language_info": {
   "codemirror_mode": {
    "name": "ipython",
    "version": 3
   },
   "file_extension": ".py",
   "mimetype": "text/x-python",
   "name": "python",
   "nbconvert_exporter": "python",
   "pygments_lexer": "ipython3",
   "version": "3.7.6"
  }
 },
 "nbformat": 4,
 "nbformat_minor": 4
}
