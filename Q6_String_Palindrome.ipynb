{
 "cells": [
  {
   "cell_type": "markdown",
   "metadata": {},
   "source": [
    "# Palindrome\n",
    "\n",
    "###### Description\n",
    "- Palidrome: a word or group of words that is the same when you read it forwards from the beginning or backwards from the end:\n",
    "\n",
    "- Given a string s, determine if it is a palindrome, considering only alphanumeric characters and ignoring cases.\n",
    "\n",
    "###### Example 1:\n",
    "\n",
    "- Input: s = \"A man, a plan, a canal: Panama\"\n",
    "- Output: true\n",
    "- Explanation: \"amanaplanacanalpanama\" is a palindrome.\n",
    "\n",
    "###### Example 2:\n",
    "\n",
    "- Input: s = \"race a car\"\n",
    "- Output: false\n",
    "- Explanation: \"raceacar\" is not a palindrome.\n",
    "\n",
    "###### Constraints:\n",
    "\n",
    "- 1 <= s.length <= 2 * 10^5\n",
    "- s consists only of printable ASCII characters."
   ]
  },
  {
   "cell_type": "code",
   "execution_count": 2,
   "metadata": {},
   "outputs": [],
   "source": [
    "s1 = \"A man, a plan, a canal: Panama\"\n",
    "s2 = \"race a car\""
   ]
  },
  {
   "cell_type": "markdown",
   "metadata": {},
   "source": [
    "### Two pointers from outside"
   ]
  },
  {
   "cell_type": "code",
   "execution_count": 3,
   "metadata": {},
   "outputs": [
    {
     "name": "stdout",
     "output_type": "stream",
     "text": [
      "True\n",
      "False\n"
     ]
    }
   ],
   "source": [
    "def isPalindrome(s):\n",
    "    \n",
    "    if len(s) <= 1: return True\n",
    "    \n",
    "    s = ''.join([letter if letter.isalnum() else '' for letter in s.lower()])\n",
    "    \n",
    "    left, right = 0, len(s)-1\n",
    "    \n",
    "    while left < right:\n",
    "        if s[left] != s[right]:\n",
    "            return False\n",
    "        \n",
    "        left += 1\n",
    "        right -=1\n",
    "    \n",
    "    return True\n",
    "            \n",
    "    \n",
    "print(isPalindrome(s1))\n",
    "print(isPalindrome(s2))"
   ]
  },
  {
   "cell_type": "markdown",
   "metadata": {},
   "source": [
    "### Two pointer from center"
   ]
  },
  {
   "cell_type": "code",
   "execution_count": 17,
   "metadata": {},
   "outputs": [
    {
     "name": "stdout",
     "output_type": "stream",
     "text": [
      "True\n",
      "False\n"
     ]
    }
   ],
   "source": [
    "def isPalindrome(s):\n",
    "    \n",
    "    if len(s) <= 1: return True\n",
    "    \n",
    "    s = ''.join([letter if letter.isalnum() else '' for letter in s.lower()])\n",
    "    \n",
    "    if len(s)%2 == 0:\n",
    "        right = len(s)//2\n",
    "        left = right-1\n",
    "    else:\n",
    "        right = left = len(s)//2\n",
    "        \n",
    "    while left >= 0:\n",
    "        if s[left] != s[right]:\n",
    "            return False\n",
    "        left -= 1\n",
    "        right +=1\n",
    "    \n",
    "    return True\n",
    "\n",
    "print(isPalindrome(s1))\n",
    "print(isPalindrome(s2))"
   ]
  },
  {
   "cell_type": "markdown",
   "metadata": {},
   "source": [
    "### Valid Palindrome - compare against reverse"
   ]
  },
  {
   "cell_type": "code",
   "execution_count": 51,
   "metadata": {},
   "outputs": [
    {
     "name": "stdout",
     "output_type": "stream",
     "text": [
      "True\n",
      "False\n"
     ]
    }
   ],
   "source": [
    "\n",
    "def isPalindrome(s):\n",
    "    \n",
    "    if len(s) <= 1: return True\n",
    "    \n",
    "    s = ''.join([ letter if letter.isalnum() else '' for letter in s.lower()])\n",
    "    \n",
    "    # generate a reverse string\n",
    "    stemp = s[-1:0:-1] + s[0]\n",
    "    \n",
    "    return stemp == s\n",
    "            \n",
    "    \n",
    "print(isPalindrome(s1))\n",
    "print(isPalindrome(s2))"
   ]
  },
  {
   "cell_type": "markdown",
   "metadata": {},
   "source": [
    "# Mostly Palindrome\n",
    "\n",
    "###### Description\n",
    "Given a string s, return true if the s can be palindrome after deleting at most one character from it.\n",
    "\n",
    "###### Example 1:\n",
    "\n",
    "- Input: s = \"aba\"\n",
    "- Output: true\n",
    "\n",
    "###### Example 2:\n",
    "\n",
    "- Input: s = \"abca\"\n",
    "- Output: true\n",
    "- Explanation: You could delete the character 'c'.\n",
    "\n",
    "###### Example 3:\n",
    "\n",
    "- Input: s = \"abc\"\n",
    "- Output: false\n",
    "\n",
    "###### Constraints:\n",
    "\n",
    "- 1 <= s.length <= 10^5\n",
    "- s consists of lowercase English letters"
   ]
  },
  {
   "cell_type": "code",
   "execution_count": 52,
   "metadata": {},
   "outputs": [],
   "source": [
    "s3 = \"aba\"\n",
    "s4 = \"abca\"\n",
    "s5 = \"abc\"\n",
    "s6 = \"eeccccbebaeeabebccceea\"\n",
    "s7 = \"aguokepatgbnvfqmgmlcupuufxoohdfpgjdmysgvhmvffcnqxjjxqncffvmhvgsymdjgpfdhooxfuupuculmgmqfvnbgtapekouga\""
   ]
  },
  {
   "cell_type": "code",
   "execution_count": 58,
   "metadata": {},
   "outputs": [
    {
     "name": "stdout",
     "output_type": "stream",
     "text": [
      "True\n"
     ]
    }
   ],
   "source": [
    "def validPalindrome(s):\n",
    "        \n",
    "        def verify(s, left, right, deleted):\n",
    "            while left < right:\n",
    "                if s[left] != s[right]:\n",
    "                    if deleted:\n",
    "                        return False\n",
    "                    else:\n",
    "                        return verify(s, left+1, right, True) or verify(s, left, right-1, True)\n",
    "                else:\n",
    "                    left += 1\n",
    "                    right -= 1\n",
    "            return True\n",
    "        return verify(s, 0, len(s)-1, False)\n",
    "\n",
    "print(validPalindrome(s7))"
   ]
  },
  {
   "cell_type": "code",
   "execution_count": 59,
   "metadata": {},
   "outputs": [
    {
     "name": "stdout",
     "output_type": "stream",
     "text": [
      "True\n"
     ]
    }
   ],
   "source": [
    "def validPalindrome(s):\n",
    "    \n",
    "    def subValidPalindrome(s, start, end):\n",
    "        while start < end:\n",
    "            if s[start] != s[end]:\n",
    "                return False\n",
    "            start += 1\n",
    "            end -= 1\n",
    "        return True\n",
    "    \n",
    "    s = ''.join([letter if letter.isalnum() else '' for letter in s.lower()])\n",
    "    \n",
    "    left, right = 0, len(s)-1\n",
    "\n",
    "    \n",
    "    while left < right:\n",
    "        if s[left] != s[right]:\n",
    "            return subValidPalindrome(s,left+1,right) or subValidPalindrome(s,left,right-1)\n",
    "                \n",
    "        left += 1\n",
    "        right -= 1\n",
    "    \n",
    "    return True\n",
    "\n",
    "\n",
    "\n",
    "#print(validPalindrome(s1))\n",
    "#print(validPalindrome(s2))\n",
    "#print(validPalindrome(s3))\n",
    "#print(validPalindrome(s4))\n",
    "#print(validPalindrome(s5))\n",
    "#print(validPalindrome(s6))\n",
    "print(validPalindrome(s7))"
   ]
  },
  {
   "cell_type": "markdown",
   "metadata": {},
   "source": [
    "#### Appendix: Replace all non-alphanumeric characters in a string"
   ]
  },
  {
   "cell_type": "code",
   "execution_count": 15,
   "metadata": {},
   "outputs": [
    {
     "data": {
      "text/plain": [
       "'AmanaplanacanalPanama'"
      ]
     },
     "execution_count": 15,
     "metadata": {},
     "output_type": "execute_result"
    }
   ],
   "source": [
    "# This method is faster than importing regular expression paket\n",
    "\n",
    "s = \"A man, a plan, a canal: Panama\"\n",
    "''.join([ letter if letter.isalnum() else '' for letter in s])"
   ]
  },
  {
   "cell_type": "code",
   "execution_count": 6,
   "metadata": {},
   "outputs": [],
   "source": [
    "s = \"A man, a plan, a canal: Panama\"\n",
    "import re\n",
    "s = re.sub('[^0-9a-zA-Z]+', '', s)"
   ]
  }
 ],
 "metadata": {
  "kernelspec": {
   "display_name": "Python 3",
   "language": "python",
   "name": "python3"
  },
  "language_info": {
   "codemirror_mode": {
    "name": "ipython",
    "version": 3
   },
   "file_extension": ".py",
   "mimetype": "text/x-python",
   "name": "python",
   "nbconvert_exporter": "python",
   "pygments_lexer": "ipython3",
   "version": "3.7.6"
  }
 },
 "nbformat": 4,
 "nbformat_minor": 4
}
