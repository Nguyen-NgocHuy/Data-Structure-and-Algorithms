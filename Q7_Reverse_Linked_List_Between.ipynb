{
 "cells": [
  {
   "cell_type": "markdown",
   "metadata": {},
   "source": [
    "# Reverse Linked List II\n",
    "\n",
    "###### Description\n",
    "Given the __head__ of a singly linked list and two integers __left__ and __right__ where __left <= right__, reverse the nodes of the list from position left to position right, and return the reversed list.ic characters and ignoring cases.\n",
    "\n",
    "###### Example 1:\n",
    "\n",
    "<img alt=\"\" src=\"https://assets.leetcode.com/uploads/2021/02/19/rev2ex2.jpg\" style=\"width: 542px; height: 222px;\">\n",
    "\n",
    "- Input:Input: head = [1,2,3,4,5], left = 2, right = 4\n",
    "- Output: [1,4,3,2,5]\n",
    "\n",
    "###### Example 2:\n",
    "\n",
    "- Input: head = [5], left = 1, right = 1\n",
    "- Output: [5]\n",
    "\n",
    "###### Constraints:\n",
    "\n",
    "- The number of nodes in the list is n.\n",
    "- 1 <= n <= 500\n",
    "- -500 <= Node.val <= 500\n",
    "- 1 <= left <= right <= n"
   ]
  },
  {
   "cell_type": "code",
   "execution_count": 5,
   "metadata": {},
   "outputs": [],
   "source": [
    "# A single node of a singly linked list\n",
    "class Node:\n",
    "    # constructor\n",
    "    def __init__(self, val, next=None):\n",
    "        self.val = val\n",
    "        self.next = next\n",
    "\n",
    "\n",
    "# A Linked List class with a single head node\n",
    "class LinkedList:\n",
    "    \n",
    "    # constructor\n",
    "    def __init__(self):\n",
    "        self.head = None\n",
    "        \n",
    "    # insertion method for the linked list\n",
    "    def insert(self, data):\n",
    "        \n",
    "        if isinstance(data, list):\n",
    "            for value in data:\n",
    "                newNode = Node(value)\n",
    "                if (self.head):\n",
    "                    current = self.head\n",
    "                    \n",
    "                    while(current.next):\n",
    "                        current = current.next\n",
    "                    \n",
    "                    current.next = newNode\n",
    "                else:\n",
    "                    self.head = newNode\n",
    "        else:\n",
    "            newNode = Node(data)\n",
    "            if (self.head):\n",
    "                current = self.head\n",
    "                \n",
    "                while(current.next):\n",
    "                    current = current.next\n",
    "                \n",
    "                current.next = newNode\n",
    "            else:\n",
    "                self.head = newNode\n",
    "            \n",
    "    # print method for the linked list\n",
    "    def printLinkedList(self):\n",
    "        current = self.head\n",
    "        while(current):\n",
    "            print(current.val)\n",
    "            current = current.next\n",
    "         \n",
    "\n",
    "        \n",
    "# Print a Linked List with Head info\n",
    "def printLinkedList(head):\n",
    "    if not head:\n",
    "        return\n",
    "    \n",
    "    print(head.val)\n",
    "    printLinkedList(head.next)\n",
    "    \n",
    "    \n",
    "\n",
    "# Create a Linked List object from a node\n",
    "def linkedList(head):\n",
    "    LL = LinkedList()\n",
    "    LL.head = head\n",
    "    return LL"
   ]
  },
  {
   "cell_type": "code",
   "execution_count": 6,
   "metadata": {},
   "outputs": [],
   "source": [
    "def reverseBetween(head, left:int, right:int):\n",
    "    \n",
    "    \n",
    "    position = 1\n",
    "    current, start = head, head\n",
    "    \n",
    "    # find the left node, which is the tail of the reverse list later\n",
    "    while position<left:\n",
    "        start = current\n",
    "        current = current.next\n",
    "        position += 1\n",
    "    \n",
    "    # reverse the list, which defined parameter left and right\n",
    "    tail = current\n",
    "    newList = None\n",
    "    \n",
    "    while (position>=left) and (position<=right):\n",
    "        \n",
    "        next = current.next\n",
    "        current.next = newList\n",
    "        newList = current\n",
    "        current = next\n",
    "        position += 1\n",
    "    \n",
    "    start.next = newList\n",
    "    tail.next = current\n",
    "    \n",
    "    \n",
    "    if left == 1:\n",
    "        return newList\n",
    "    else:\n",
    "        return head\n",
    "    "
   ]
  },
  {
   "cell_type": "code",
   "execution_count": 7,
   "metadata": {},
   "outputs": [],
   "source": [
    "# deep copy a singly linked list\n",
    "def copy_list(head):\n",
    "    \n",
    "    if head is None:\n",
    "        return head\n",
    "    \n",
    "    # create new node\n",
    "    new_node = Node(head.val)\n",
    "    \n",
    "    # the new nodes next pointer would point to the node retured from recursion\n",
    "    new_node.next = copy_list(head.next)\n",
    "    \n",
    "    return new_node"
   ]
  },
  {
   "cell_type": "markdown",
   "metadata": {},
   "source": [
    "## Example"
   ]
  },
  {
   "cell_type": "code",
   "execution_count": 8,
   "metadata": {},
   "outputs": [
    {
     "name": "stdout",
     "output_type": "stream",
     "text": [
      "1\n",
      "2\n",
      "3\n",
      "4\n",
      "5\n",
      "6\n",
      "7\n",
      "8\n",
      "9\n",
      "10\n"
     ]
    }
   ],
   "source": [
    "LL = LinkedList()\n",
    "LL.insert([1,2,3,4,5,6,7,8,9,10])\n",
    "LL.printLinkedList()"
   ]
  },
  {
   "cell_type": "code",
   "execution_count": 9,
   "metadata": {},
   "outputs": [
    {
     "name": "stdout",
     "output_type": "stream",
     "text": [
      "1\n",
      "2\n",
      "8\n",
      "7\n",
      "6\n",
      "5\n",
      "4\n",
      "3\n",
      "9\n",
      "10\n"
     ]
    }
   ],
   "source": [
    "node = reverseBetween(LL.head, 3, 8)\n",
    "printLinkedList(node)"
   ]
  },
  {
   "cell_type": "code",
   "execution_count": 11,
   "metadata": {},
   "outputs": [],
   "source": [
    "node2 = copy_list(node)"
   ]
  },
  {
   "cell_type": "code",
   "execution_count": 12,
   "metadata": {},
   "outputs": [],
   "source": [
    "node2.val = 4"
   ]
  },
  {
   "cell_type": "code",
   "execution_count": 13,
   "metadata": {},
   "outputs": [
    {
     "data": {
      "text/plain": [
       "1"
      ]
     },
     "execution_count": 13,
     "metadata": {},
     "output_type": "execute_result"
    }
   ],
   "source": [
    "node.val"
   ]
  },
  {
   "cell_type": "code",
   "execution_count": 14,
   "metadata": {},
   "outputs": [
    {
     "data": {
      "text/plain": [
       "4"
      ]
     },
     "execution_count": 14,
     "metadata": {},
     "output_type": "execute_result"
    }
   ],
   "source": [
    "node2.val"
   ]
  },
  {
   "cell_type": "code",
   "execution_count": 15,
   "metadata": {},
   "outputs": [
    {
     "data": {
      "text/plain": [
       "2"
      ]
     },
     "execution_count": 15,
     "metadata": {},
     "output_type": "execute_result"
    }
   ],
   "source": [
    "node2.next.val"
   ]
  },
  {
   "cell_type": "code",
   "execution_count": 16,
   "metadata": {},
   "outputs": [
    {
     "data": {
      "text/plain": [
       "2"
      ]
     },
     "execution_count": 16,
     "metadata": {},
     "output_type": "execute_result"
    }
   ],
   "source": [
    "node.next.val"
   ]
  },
  {
   "cell_type": "code",
   "execution_count": null,
   "metadata": {},
   "outputs": [],
   "source": []
  }
 ],
 "metadata": {
  "kernelspec": {
   "display_name": "Python 3",
   "language": "python",
   "name": "python3"
  },
  "language_info": {
   "codemirror_mode": {
    "name": "ipython",
    "version": 3
   },
   "file_extension": ".py",
   "mimetype": "text/x-python",
   "name": "python",
   "nbconvert_exporter": "python",
   "pygments_lexer": "ipython3",
   "version": "3.7.6"
  }
 },
 "nbformat": 4,
 "nbformat_minor": 4
}
