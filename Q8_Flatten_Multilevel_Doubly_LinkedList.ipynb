{
 "cells": [
  {
   "cell_type": "markdown",
   "metadata": {},
   "source": [
    "# Q8 Flatten Multilevel Doubly Linked List\n",
    "\n",
    "###### Description\n",
    "You are given a doubly linked list which in addition to the next and previous pointers, it could have a child pointer, which may or may not point to a separate doubly linked list. These child lists may have one or more children of their own, and so on, to produce a multilevel data structure, as shown in the example below.\n",
    "\n",
    "Flatten the list so that all the nodes appear in a single-level, doubly linked list. You are given the head of the first level of the list.\n",
    "\n",
    "###### Example 1:\n",
    "\n",
    "<img alt=\"\" src=\"https://assets.leetcode.com/uploads/2021/02/19/rev2ex2.jpg\" style=\"width: 542px; height: 222px;\">\n",
    "\n",
    "- Input: head = [1,2,3,4,5,6,null,null,null,7,8,9,10,null,null,11,12]\n",
    "- Output: [1,2,3,7,8,11,12,9,10,4,5,6]\n",
    "- Explanation:\n",
    "The multilevel linked list in the input is as follows:\n",
    "<img src=\"https://assets.leetcode.com/uploads/2018/10/12/multilevellinkedlist.png\" style=\"width: 640px;\">\n",
    "\n",
    "After flattening the multilevel linked list it becomes:\n",
    "<img src=\"https://assets.leetcode.com/uploads/2018/10/12/multilevellinkedlistflattened.png\" style=\"width: 1100px;\">\n",
    "\n",
    "\n",
    "###### Example 2:\n",
    "\n",
    "- Input: head = [1,2,null,3]\n",
    "- Output: [1,3,2]\n",
    "- Explanation:\n",
    "\n",
    "The input multilevel linked list is as follows:\n",
    "\n",
    "  1---2---NULL\n",
    "  |\n",
    "  3---NULL\n",
    "\n",
    "###### Example 3:\n",
    "- Input: head = []\n",
    "- Output: []\n",
    "\n",
    "###### How multilevel linked list is represented in test case:\n",
    "\n",
    "We use the multilevel linked list from Example 1 above:\n",
    "\n",
    " 1---2---3---4---5---6--NULL\n",
    "         |\n",
    "         7---8---9---10--NULL\n",
    "             |\n",
    "             11--12--NULL\n",
    "The serialization of each level is as follows:\n",
    "\n",
    "[1,2,3,4,5,6,null]\n",
    "[7,8,9,10,null]\n",
    "[11,12,null]\n",
    "To serialize all levels together we will add nulls in each level to signify no node connects to the upper node of the previous level. The serialization becomes:\n",
    "\n",
    "[1,2,3,4,5,6,null]\n",
    "[null,null,7,8,9,10,null]\n",
    "[null,11,12,null]\n",
    "Merging the serialization of each level and removing trailing nulls we obtain:\n",
    "\n",
    "[1,2,3,4,5,6,null,null,null,7,8,9,10,null,null,11,12]\n",
    " \n",
    "\n",
    "###### Constraints:\n",
    "\n",
    "The number of Nodes will not exceed 1000.\n",
    "1 <= Node.val <= 105\n"
   ]
  },
  {
   "cell_type": "markdown",
   "metadata": {},
   "source": [
    "## Classes and Functions"
   ]
  },
  {
   "cell_type": "code",
   "execution_count": 1,
   "metadata": {},
   "outputs": [],
   "source": [
    "# A single Node of doubly linked list with child\n",
    "\n",
    "\n",
    "class Node:\n",
    "    # constructor\n",
    "    def __init__(self, val, next=None, prev=None, child=None):\n",
    "        self.val = val\n",
    "        self.next = next\n",
    "        self.prev = prev\n",
    "        self.child = child # the head node of another doubly linked list\n",
    "        \n",
    "        "
   ]
  },
  {
   "cell_type": "code",
   "execution_count": 11,
   "metadata": {},
   "outputs": [],
   "source": [
    "# Doubly Linked List Class\n",
    "\n",
    "\n",
    "class DoublyLinkedList:\n",
    "    \n",
    "    # Constructor\n",
    "    def __init__(self):\n",
    "        self.head = None\n",
    " \n",
    "    \n",
    "    # Inserting Item in Empty List\n",
    "    def insert_in_emptylist(self, data, child=None):\n",
    "        if self.head is None:\n",
    "            new_node = Node(data,child=child)\n",
    "            self.head = new_node\n",
    "        else:\n",
    "            print('The list is not empty. Please use another Insert method')\n",
    "\n",
    " \n",
    "    # Inserting Item at the Start\n",
    "    def insert_at_start(self, data, child=None):\n",
    "        new_node = Node(data,child=child)\n",
    "        \n",
    "        if self.head is None:\n",
    "            self.head = new_node\n",
    "            print('node inserted')\n",
    "            return\n",
    "        \n",
    "        new_node.prev = None\n",
    "        new_node.next = self.head\n",
    "        \n",
    "        current = self.head\n",
    "        current.prev = new_node\n",
    "        self.head = new_node\n",
    "     \n",
    "    \n",
    "    # Delete Element from the Start\n",
    "    def delete_at_start(self):\n",
    "        if self.head is None:\n",
    "            print('The list has no element to delete!')\n",
    "            return\n",
    "        \n",
    "        if self.head.next is None:\n",
    "            self.head = None\n",
    "            return\n",
    "            \n",
    "        self.head = self.head.next\n",
    "        self.head.prev = None\n",
    "        \n",
    " \n",
    "    # Inserting Item at the End\n",
    "    def insert_at_end(self,data, child=None):\n",
    "        new_node = Node(data,child=child)\n",
    "        \n",
    "        if self.head is None:\n",
    "            self.head = new_node\n",
    "            return\n",
    "        \n",
    "        current = self.head\n",
    "        while current.next:\n",
    "            current = current.next\n",
    "        \n",
    "        current.next = new_node\n",
    "        new_node.prev = current\n",
    "        \n",
    "        \n",
    "    # Delete Element at the End\n",
    "    def delete_at_end(self):\n",
    "        \n",
    "        if self.head is None:\n",
    "            print('The list has no element to delete!')\n",
    "            return\n",
    "        elif self.head.next is None:\n",
    "            self.head = None\n",
    "            return\n",
    "        else:\n",
    "            current = self.head\n",
    "            while current.next.next:\n",
    "                current = current.next\n",
    "    \n",
    "            current.next = None\n",
    "            \n",
    "            \n",
    "    \n",
    "    # Inserting Item after/before another item with specified value\n",
    "    def insert_item(self, val, data, child=None, option=0):\n",
    "        # option = 0: insert after; others is insert before\n",
    "        \n",
    "        if self.head is None:\n",
    "            print('The list is empty!')\n",
    "            return\n",
    "        else:\n",
    "            current = self.head\n",
    "            while current:\n",
    "                if current.val == val:\n",
    "                    break\n",
    "                current = current.next\n",
    "            \n",
    "            if current:\n",
    "                new_node = Node(data,child=child)\n",
    "                \n",
    "                if option == 0:    \n",
    "                    new_node.prev = current\n",
    "                    new_node.next = current.next\n",
    "                    current.next = new_node\n",
    "                else:\n",
    "                    if current.prev is None: \n",
    "                        self.head = new_node\n",
    "                        \n",
    "                    new_node.prev = current.prev\n",
    "                    new_node.next = current\n",
    "                    current.prev = new_node \n",
    "  \n",
    "    \n",
    "    # Delete element by value\n",
    "    def delete_element_buy_value(self,val):\n",
    "        \n",
    "        if self.head is None:\n",
    "            print('The list has no element to delete!')\n",
    "            return\n",
    "        elif self.head.val == val:\n",
    "            self.head = self.head.next\n",
    "        \n",
    "        current = self.head\n",
    "        while current:\n",
    "            \n",
    "            if current.val == val:\n",
    "                prevNode = current.prev\n",
    "                nextNode = current.next\n",
    "                prevNode.next = nextNode\n",
    "                nextNode.prev = prevNode\n",
    "                return\n",
    "            current = current.next    \n",
    "    \n",
    "    \n",
    "    \n",
    "    # Print Doubly Linked List\n",
    "    def print_linked_list(self):\n",
    "        if self.head is None:\n",
    "            print('There are no items in the list')\n",
    "            return\n",
    "        \n",
    "        current = self.head\n",
    "        while current:\n",
    "            print(current.val)\n",
    "            current = current.next\n",
    "    \n",
    "    \n",
    "    \n",
    "    # Flatten Doubly Linked List with Children\n",
    "    def flatten_dll_childlren(self):\n",
    "\n",
    "        if self.head is None:\n",
    "            return\n",
    "        \n",
    "        current = self.head\n",
    "        \n",
    "        while current:\n",
    "            \n",
    "            if current.child:\n",
    "\n",
    "                nextTemp = current.next                \n",
    "                current.next = current.child\n",
    "                current.child = current\n",
    "\n",
    "                currentChild = current.child\n",
    "                while currentChild.next:\n",
    "                    currentChild = currentChild.next\n",
    "                \n",
    "                currentChild.next = nextTemp\n",
    "                nextTemp.prev = currentChild\n",
    "                current.child = None\n",
    "              \n",
    "            current = current.next\n",
    "    "
   ]
  },
  {
   "cell_type": "code",
   "execution_count": 12,
   "metadata": {},
   "outputs": [],
   "source": [
    "# Flatten Doubly Linked List with Children\n",
    "def recursive_copy(node, prev_node):\n",
    "    if node is None:\n",
    "        return node\n",
    "    \n",
    "    if node.child:\n",
    "        child = copy_doubly_linkedlist(node.child).head\n",
    "    else:\n",
    "        child = None\n",
    "    \n",
    "    new_node = Node(node.val, child=child)   \n",
    "    new_node.prev = prev_node\n",
    "    new_node.next = recursive_copy(node.next, new_node)\n",
    "    \n",
    "    return new_node\n",
    "    \n",
    "    \n",
    "    \n",
    "# the copy multilevel doubly linked list function\n",
    "def copy_doubly_linkedlist(head):\n",
    "    LL = DoublyLinkedList()\n",
    "    LL.head = recursive_copy(head, None)\n",
    "    return LL\n",
    "    "
   ]
  },
  {
   "cell_type": "markdown",
   "metadata": {},
   "source": [
    "## Example"
   ]
  },
  {
   "cell_type": "code",
   "execution_count": 13,
   "metadata": {},
   "outputs": [],
   "source": [
    "LL = DoublyLinkedList()\n",
    "LL1 = DoublyLinkedList()\n",
    "LL2 = DoublyLinkedList()"
   ]
  },
  {
   "cell_type": "code",
   "execution_count": 14,
   "metadata": {},
   "outputs": [
    {
     "name": "stdout",
     "output_type": "stream",
     "text": [
      "11\n",
      "12\n"
     ]
    }
   ],
   "source": [
    "# setup for LL2\n",
    "\n",
    "LL2.insert_at_end(11)\n",
    "LL2.insert_at_end(12)\n",
    "LL2.print_linked_list()"
   ]
  },
  {
   "cell_type": "code",
   "execution_count": 15,
   "metadata": {},
   "outputs": [
    {
     "name": "stdout",
     "output_type": "stream",
     "text": [
      "7\n",
      "8\n",
      "9\n",
      "10\n"
     ]
    }
   ],
   "source": [
    "# setup for LL1\n",
    "\n",
    "LL1.insert_at_end(7)\n",
    "LL1.insert_at_end(8, LL2.head)\n",
    "LL1.insert_at_end(9)\n",
    "LL1.insert_at_end(10)\n",
    "LL1.print_linked_list()"
   ]
  },
  {
   "cell_type": "code",
   "execution_count": 16,
   "metadata": {},
   "outputs": [
    {
     "name": "stdout",
     "output_type": "stream",
     "text": [
      "1\n",
      "2\n",
      "3\n",
      "4\n",
      "5\n",
      "6\n"
     ]
    }
   ],
   "source": [
    "# setup for LL\n",
    "\n",
    "LL.insert_at_end(1)\n",
    "LL.insert_at_end(2)\n",
    "LL.insert_at_end(3, LL1.head)\n",
    "LL.insert_at_end(4)\n",
    "LL.insert_at_end(5)\n",
    "LL.insert_at_end(6)\n",
    "LL.print_linked_list()"
   ]
  },
  {
   "cell_type": "code",
   "execution_count": 17,
   "metadata": {},
   "outputs": [
    {
     "ename": "NameError",
     "evalue": "name 'head' is not defined",
     "output_type": "error",
     "traceback": [
      "\u001b[1;31m---------------------------------------------------------------------------\u001b[0m",
      "\u001b[1;31mNameError\u001b[0m                                 Traceback (most recent call last)",
      "\u001b[1;32m<ipython-input-17-e72770d5a9d3>\u001b[0m in \u001b[0;36m<module>\u001b[1;34m\u001b[0m\n\u001b[0;32m      1\u001b[0m \u001b[0mLLnew\u001b[0m \u001b[1;33m=\u001b[0m \u001b[0mcopy_doubly_linkedlist\u001b[0m\u001b[1;33m(\u001b[0m\u001b[0mLL\u001b[0m\u001b[1;33m.\u001b[0m\u001b[0mhead\u001b[0m\u001b[1;33m)\u001b[0m\u001b[1;33m\u001b[0m\u001b[1;33m\u001b[0m\u001b[0m\n\u001b[1;32m----> 2\u001b[1;33m \u001b[0mLL\u001b[0m\u001b[1;33m.\u001b[0m\u001b[0mflatten_dll_childlren\u001b[0m\u001b[1;33m(\u001b[0m\u001b[1;33m)\u001b[0m\u001b[1;33m\u001b[0m\u001b[1;33m\u001b[0m\u001b[0m\n\u001b[0m\u001b[0;32m      3\u001b[0m \u001b[0mLL\u001b[0m\u001b[1;33m.\u001b[0m\u001b[0mprint_linked_list\u001b[0m\u001b[1;33m(\u001b[0m\u001b[1;33m)\u001b[0m\u001b[1;33m\u001b[0m\u001b[1;33m\u001b[0m\u001b[0m\n",
      "\u001b[1;32m<ipython-input-11-0ff48e6a5fa7>\u001b[0m in \u001b[0;36mflatten_dll_childlren\u001b[1;34m(self)\u001b[0m\n\u001b[0;32m    151\u001b[0m     \u001b[1;32mdef\u001b[0m \u001b[0mflatten_dll_childlren\u001b[0m\u001b[1;33m(\u001b[0m\u001b[0mself\u001b[0m\u001b[1;33m)\u001b[0m\u001b[1;33m:\u001b[0m\u001b[1;33m\u001b[0m\u001b[1;33m\u001b[0m\u001b[0m\n\u001b[0;32m    152\u001b[0m \u001b[1;33m\u001b[0m\u001b[0m\n\u001b[1;32m--> 153\u001b[1;33m         \u001b[1;32mif\u001b[0m \u001b[0mhead\u001b[0m \u001b[1;32mis\u001b[0m \u001b[1;32mNone\u001b[0m\u001b[1;33m:\u001b[0m\u001b[1;33m\u001b[0m\u001b[1;33m\u001b[0m\u001b[0m\n\u001b[0m\u001b[0;32m    154\u001b[0m             \u001b[1;32mreturn\u001b[0m\u001b[1;33m\u001b[0m\u001b[1;33m\u001b[0m\u001b[0m\n\u001b[0;32m    155\u001b[0m \u001b[1;33m\u001b[0m\u001b[0m\n",
      "\u001b[1;31mNameError\u001b[0m: name 'head' is not defined"
     ]
    }
   ],
   "source": [
    "LLnew = copy_doubly_linkedlist(LL.head)\n",
    "LL.flatten_dll_childlren()\n",
    "LL.print_linked_list()"
   ]
  },
  {
   "cell_type": "code",
   "execution_count": 18,
   "metadata": {},
   "outputs": [
    {
     "name": "stdout",
     "output_type": "stream",
     "text": [
      "1\n",
      "2\n",
      "3\n",
      "4\n",
      "5\n",
      "6\n"
     ]
    }
   ],
   "source": [
    "LLnew.print_linked_list()"
   ]
  },
  {
   "cell_type": "code",
   "execution_count": 19,
   "metadata": {},
   "outputs": [
    {
     "ename": "NameError",
     "evalue": "name 'head' is not defined",
     "output_type": "error",
     "traceback": [
      "\u001b[1;31m---------------------------------------------------------------------------\u001b[0m",
      "\u001b[1;31mNameError\u001b[0m                                 Traceback (most recent call last)",
      "\u001b[1;32m<ipython-input-19-12b3783a94c4>\u001b[0m in \u001b[0;36m<module>\u001b[1;34m\u001b[0m\n\u001b[1;32m----> 1\u001b[1;33m \u001b[0mLLnew\u001b[0m\u001b[1;33m.\u001b[0m\u001b[0mflatten_dll_childlren\u001b[0m\u001b[1;33m(\u001b[0m\u001b[1;33m)\u001b[0m\u001b[1;33m\u001b[0m\u001b[1;33m\u001b[0m\u001b[0m\n\u001b[0m\u001b[0;32m      2\u001b[0m \u001b[0mLLnew\u001b[0m\u001b[1;33m.\u001b[0m\u001b[0mprint_linked_list\u001b[0m\u001b[1;33m(\u001b[0m\u001b[1;33m)\u001b[0m\u001b[1;33m\u001b[0m\u001b[1;33m\u001b[0m\u001b[0m\n",
      "\u001b[1;32m<ipython-input-11-0ff48e6a5fa7>\u001b[0m in \u001b[0;36mflatten_dll_childlren\u001b[1;34m(self)\u001b[0m\n\u001b[0;32m    151\u001b[0m     \u001b[1;32mdef\u001b[0m \u001b[0mflatten_dll_childlren\u001b[0m\u001b[1;33m(\u001b[0m\u001b[0mself\u001b[0m\u001b[1;33m)\u001b[0m\u001b[1;33m:\u001b[0m\u001b[1;33m\u001b[0m\u001b[1;33m\u001b[0m\u001b[0m\n\u001b[0;32m    152\u001b[0m \u001b[1;33m\u001b[0m\u001b[0m\n\u001b[1;32m--> 153\u001b[1;33m         \u001b[1;32mif\u001b[0m \u001b[0mhead\u001b[0m \u001b[1;32mis\u001b[0m \u001b[1;32mNone\u001b[0m\u001b[1;33m:\u001b[0m\u001b[1;33m\u001b[0m\u001b[1;33m\u001b[0m\u001b[0m\n\u001b[0m\u001b[0;32m    154\u001b[0m             \u001b[1;32mreturn\u001b[0m\u001b[1;33m\u001b[0m\u001b[1;33m\u001b[0m\u001b[0m\n\u001b[0;32m    155\u001b[0m \u001b[1;33m\u001b[0m\u001b[0m\n",
      "\u001b[1;31mNameError\u001b[0m: name 'head' is not defined"
     ]
    }
   ],
   "source": [
    "LLnew.flatten_dll_childlren()\n",
    "LLnew.print_linked_list()"
   ]
  },
  {
   "cell_type": "code",
   "execution_count": null,
   "metadata": {},
   "outputs": [],
   "source": []
  },
  {
   "cell_type": "code",
   "execution_count": null,
   "metadata": {},
   "outputs": [],
   "source": []
  }
 ],
 "metadata": {
  "kernelspec": {
   "display_name": "Python 3",
   "language": "python",
   "name": "python3"
  },
  "language_info": {
   "codemirror_mode": {
    "name": "ipython",
    "version": 3
   },
   "file_extension": ".py",
   "mimetype": "text/x-python",
   "name": "python",
   "nbconvert_exporter": "python",
   "pygments_lexer": "ipython3",
   "version": "3.7.6"
  }
 },
 "nbformat": 4,
 "nbformat_minor": 4
}
