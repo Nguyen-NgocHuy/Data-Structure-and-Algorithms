{
 "cells": [
  {
   "cell_type": "markdown",
   "metadata": {},
   "source": [
    "# Q8 Flatten Multilevel Doubly Linked List\n",
    "\n",
    "###### Description\n",
    "Given the head of a linked list, return the node where the cycle begins. If there is no cycle, return null.\n",
    "\n",
    "There is a cycle in a linked list if there is some node in the list that can be reached again by continuously following the next pointer. Internally, pos is used to denote the index of the node that tail's next pointer is connected to (0-indexed). It is -1 if there is no cycle. Note that pos is not passed as a parameter.\n",
    "\n",
    "Do not modify the linked list.\n",
    "###### Example 1:\n",
    "\n",
    "<img alt=\"\" src=\"https://assets.leetcode.com/uploads/2018/12/07/circularlinkedlist.png\" style=\"height: 145px; width: 450px;\">\n",
    "\n",
    "Input: head = [3,2,0,-4], pos = 1\n",
    "Output: tail connects to node index 1\n",
    "Explanation: There is a cycle in the linked list, where tail connects to the second node.\n",
    "\n",
    "\n",
    "###### Example 2:\n",
    "\n",
    "<img alt=\"\" src=\"https://assets.leetcode.com/uploads/2018/12/07/circularlinkedlist_test2.png\" style=\"height: 105px; width: 201px;\">\n",
    "\n",
    "Input: head = [1,2], pos = 0\n",
    "Output: tail connects to node index 0\n",
    "Explanation: There is a cycle in the linked list, where tail connects to the first node.\n",
    "\n",
    "###### Example 3:\n",
    "\n",
    "<img alt=\"\" src=\"https://assets.leetcode.com/uploads/2018/12/07/circularlinkedlist_test3.png\" style=\"height: 65px; width: 65px;\">\n",
    "\n",
    "Input: head = [1], pos = -1\n",
    "Output: no cycle\n",
    "Explanation: There is no cycle in the linked list.\n",
    "\n",
    "###### Constraints:\n",
    "Constraints:\n",
    "\n",
    "The number of the nodes in the list is in the range [0, 104].\n",
    "-105 <= Node.val <= 105\n",
    "pos is -1 or a valid index in the linked-list."
   ]
  },
  {
   "cell_type": "code",
   "execution_count": 1,
   "metadata": {},
   "outputs": [],
   "source": [
    "# A single node of a singly linked list\n",
    "class Node:\n",
    "    # constructor\n",
    "    def __init__(self, val, next=None):\n",
    "        self.val = val\n",
    "        self.next = next\n",
    "\n",
    "\n",
    "# A Linked List class with a single head node\n",
    "class LinkedList:\n",
    "    \n",
    "    # constructor\n",
    "    def __init__(self):\n",
    "        self.head = None\n",
    "        \n",
    "    # insertion method for the linked list\n",
    "    def insert(self, data):\n",
    "        \n",
    "        if isinstance(data, list):\n",
    "            for value in data:\n",
    "                newNode = Node(value)\n",
    "                if (self.head):\n",
    "                    current = self.head\n",
    "                    \n",
    "                    while(current.next):\n",
    "                        current = current.next\n",
    "                    \n",
    "                    current.next = newNode\n",
    "                else:\n",
    "                    self.head = newNode\n",
    "        else:\n",
    "            newNode = Node(data)\n",
    "            if (self.head):\n",
    "                current = self.head\n",
    "                \n",
    "                while(current.next):\n",
    "                    current = current.next\n",
    "                \n",
    "                current.next = newNode\n",
    "            else:\n",
    "                self.head = newNode\n",
    "            \n",
    "    # print method for the linked list\n",
    "    def printLinkedList(self):\n",
    "        current = self.head\n",
    "        while(current):\n",
    "            print(current.val)\n",
    "            current = current.next\n",
    "         \n"
   ]
  },
  {
   "cell_type": "code",
   "execution_count": 2,
   "metadata": {},
   "outputs": [],
   "source": [
    "# Print a Linked List with Head info\n",
    "def printLinkedList(head):\n",
    "    if not head:\n",
    "        return\n",
    "    \n",
    "    print(head.val)\n",
    "    printLinkedList(head.next)\n",
    "    \n",
    "\n",
    "# Create a Linked List object from a node\n",
    "def linkedList(head):\n",
    "    LL = LinkedList()\n",
    "    LL.head = head\n",
    "    return LL\n",
    "\n",
    "\n",
    "# deep copy a singly linked list\n",
    "def copy_list(head):\n",
    "    \n",
    "    if head is None:\n",
    "        return head\n",
    "    \n",
    "    # create new node\n",
    "    new_node = Node(head.val)\n",
    "    \n",
    "    # the new nodes next pointer would point to the node retured from recursion\n",
    "    new_node.next = copy_list(head.next)\n",
    "    \n",
    "    return new_node\n",
    "\n",
    "\n",
    "# Create Linked List Cycle from a Linked List and value of Node, where begins the cycle\n",
    "def cycleLinkedList(head, value):\n",
    "    \n",
    "    new_head = copy_list(head)\n",
    "    start_node = None\n",
    "    \n",
    "    current = new_head\n",
    "    while current.next is not None:\n",
    "     \n",
    "        if current.val == value:\n",
    "            start_node = current\n",
    "        \n",
    "        current = current.next\n",
    "        \n",
    "    if start_node is not None:\n",
    "        current.next = start_node\n",
    "    else:\n",
    "        print('In the current list, there are no values = ',value)\n",
    "        \n",
    "    return new_head\n",
    "        "
   ]
  },
  {
   "cell_type": "markdown",
   "metadata": {},
   "source": [
    "### Example"
   ]
  },
  {
   "cell_type": "code",
   "execution_count": 3,
   "metadata": {},
   "outputs": [],
   "source": [
    "LL = LinkedList()\n",
    "LL.insert([1,2,3,4,5,6,7,8,9])"
   ]
  },
  {
   "cell_type": "code",
   "execution_count": 4,
   "metadata": {},
   "outputs": [
    {
     "name": "stdout",
     "output_type": "stream",
     "text": [
      "1\n",
      "2\n",
      "3\n",
      "4\n",
      "5\n",
      "6\n",
      "7\n",
      "8\n",
      "9\n"
     ]
    }
   ],
   "source": [
    "LL.printLinkedList()"
   ]
  },
  {
   "cell_type": "code",
   "execution_count": 5,
   "metadata": {},
   "outputs": [],
   "source": [
    "# create the head node of Linked List Cycle\n",
    "node = cycleLinkedList(LL.head, 5)"
   ]
  },
  {
   "cell_type": "markdown",
   "metadata": {},
   "source": [
    "### Method to find index of node, which the cycle begins"
   ]
  },
  {
   "cell_type": "markdown",
   "metadata": {},
   "source": [
    "My solution consists of two parts. The first one checks if a cycle exists or not. The second one determines the entry of the cycle if it exists.\n",
    "The first part is inspired by this post. about Linked List Cycle I\n",
    "The logic behind the 2nd part is like this:\n",
    "\n",
    "       Consider the following linked list, where E is the cylce entry and X, the crossing point of fast and slow.\n",
    "        H: distance from head to cycle entry E\n",
    "        D: distance from E to X\n",
    "        L: cycle length\n",
    "                          _____\n",
    "                         /     \\\n",
    "        head_____H______E       \\\n",
    "                        \\       /\n",
    "                         X_____/   \n",
    "        \n",
    "    \n",
    "        If fast and slow both start at head, when fast catches slow, slow has traveled H+D and fast 2(H+D). \n",
    "        Assume fast has traveled n loops in the cycle, we have:\n",
    "        2H + 2D = H + D + L  -->  H + D = nL  --> H = nL - D\n",
    "        Thus if two pointers start from head and X, respectively, one first reaches E, the other also reaches E. \n",
    "        In my solution, since fast starts at head.next, we need to move slow one step forward in the beginning of part 2\n",
    "\n"
   ]
  },
  {
   "cell_type": "markdown",
   "metadata": {},
   "source": [
    "##### Method 1"
   ]
  },
  {
   "cell_type": "code",
   "execution_count": 6,
   "metadata": {},
   "outputs": [],
   "source": [
    "def detectCycle_v1(head):\n",
    "    try:\n",
    "        fast = head.next\n",
    "        slow = head\n",
    "        while fast is not slow:\n",
    "            fast = fast.next.next\n",
    "            slow = slow.next\n",
    "    except:\n",
    "        # if there is an exception, we reach the end and there is no cycle\n",
    "        return None\n",
    "\n",
    "    # since fast starts at head.next, we need to move slow one step forward\n",
    "    slow = slow.next\n",
    "    while head is not slow:\n",
    "        head = head.next\n",
    "        slow = slow.next\n",
    "\n",
    "    return head"
   ]
  },
  {
   "cell_type": "code",
   "execution_count": 7,
   "metadata": {},
   "outputs": [
    {
     "name": "stdout",
     "output_type": "stream",
     "text": [
      "Cycle node has value =  5\n"
     ]
    }
   ],
   "source": [
    "cycle_node = detectCycle_v1(node)\n",
    "print('Cycle node has value = ', cycle_node.val)"
   ]
  },
  {
   "cell_type": "code",
   "execution_count": 8,
   "metadata": {},
   "outputs": [],
   "source": [
    "##### Method 2"
   ]
  },
  {
   "cell_type": "code",
   "execution_count": 34,
   "metadata": {},
   "outputs": [],
   "source": [
    "def detectCycle_v2(head):\n",
    "    slow, fast = head, head\n",
    "    while fast and fast.next:\n",
    "        slow = slow.next\n",
    "        fast = fast.next.next\n",
    "        if slow == fast:\n",
    "            slow2 = head\n",
    "            while slow != slow2:\n",
    "                slow = slow.next\n",
    "                slow2 = slow2.next\n",
    "            return slow"
   ]
  },
  {
   "cell_type": "code",
   "execution_count": 35,
   "metadata": {},
   "outputs": [
    {
     "name": "stdout",
     "output_type": "stream",
     "text": [
      "Cycle node has value =  5\n"
     ]
    }
   ],
   "source": [
    "cycle_node = detectCycle_v2(node)\n",
    "print('Cycle node has value = ', cycle_node.val)"
   ]
  }
 ],
 "metadata": {
  "kernelspec": {
   "display_name": "Python 3",
   "language": "python",
   "name": "python3"
  },
  "language_info": {
   "codemirror_mode": {
    "name": "ipython",
    "version": 3
   },
   "file_extension": ".py",
   "mimetype": "text/x-python",
   "name": "python",
   "nbconvert_exporter": "python",
   "pygments_lexer": "ipython3",
   "version": "3.7.6"
  }
 },
 "nbformat": 4,
 "nbformat_minor": 4
}
