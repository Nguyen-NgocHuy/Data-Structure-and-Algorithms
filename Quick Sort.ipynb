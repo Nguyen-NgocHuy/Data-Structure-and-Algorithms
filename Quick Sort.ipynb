{
 "cells": [
  {
   "cell_type": "markdown",
   "metadata": {},
   "source": [
    "# Quick sort\n",
    "\n",
    "##### DESCRIPTION\n",
    "- Quicksort is a divide-and-conquer algorithm. Divide the problem down, to do work on each subset and then combinning solutions.\n",
    "- It works by selecting a 'pivot' element from the array and partitioning the other elements into two sub-arrays, according to whether they are less than or greater than the pivot. For this reason, it is sometimes called partition-exchange sort.\n",
    "\n",
    "##### DISCUSSION\n",
    "\n",
    "- When carefully implemented, quick sort is robust and has low overhead. When a stable sort is not needed, quick sort is an excellent general-purpose sort – although the 3-way partitioning version should always be used instead.\n",
    "\n",
    "- The 2-way partitioning code shown above is written for clarity rather than optimal performance; it exhibits poor locality, and, critically, exhibits O(n2) time when there are few unique keys. A more efficient and robust 2-way partitioning method is given in Quicksort is Optimal by Robert Sedgewick and Jon Bentley. The robust partitioning produces balanced recursion when there are many values equal to the pivot, yielding probabilistic guarantees of O(n·lg(n)) time and O(lg(n)) space for all inputs.\n",
    "\n",
    "- With both sub-sorts performed recursively, quick sort requires O(n) extra space for the recursion stack in the worst case when recursion is not balanced. This is exceedingly unlikely to occur, but it can be avoided by sorting the smaller sub-array recursively first; the second sub-array sort is a tail recursive call, which may be done with iteration instead. With this optimization, the algorithm uses O(lg(n)) extra space in the worst case.\n",
    "\n",
    "##### PROPERTIES\n",
    "- Stable\n",
    "- Θ(n) extra space for arrays (as shown)\n",
    "- Θ(lg(n)) extra space for linked lists\n",
    "- Θ(n·lg(n)) time (The algorithm works in O(n.logn). This is because the list is being split in log(n) calls and the merging process takes linear time in each call.)\n",
    "- Not adaptive\n",
    "- Does not require random access to data\n",
    "\n",
    "##### ALGORITHM\n",
    "###### choose pivot_\n",
    "swap a[1,rand(1,n)]\n",
    "\n",
    "###### 2-way partition_\n",
    "k = 1 \\\n",
    "for i = 2:n, if a[i] < a[1], swap a[++k,i] \\\n",
    "swap a[1,k] \\\n",
    "_→ invariant: a[1..k-1] < a[k] <= a[k+1..n]_ \\\n",
    "\n",
    "###### recursive sorts_\n",
    "sort a[1..k-1]\n",
    "sort a[k+1,n]"
   ]
  },
  {
   "cell_type": "code",
   "execution_count": null,
   "metadata": {},
   "outputs": [],
   "source": []
  }
 ],
 "metadata": {
  "kernelspec": {
   "display_name": "Python 3",
   "language": "python",
   "name": "python3"
  },
  "language_info": {
   "codemirror_mode": {
    "name": "ipython",
    "version": 3
   },
   "file_extension": ".py",
   "mimetype": "text/x-python",
   "name": "python",
   "nbconvert_exporter": "python",
   "pygments_lexer": "ipython3",
   "version": "3.7.6"
  }
 },
 "nbformat": 4,
 "nbformat_minor": 4
}
