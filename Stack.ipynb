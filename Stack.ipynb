{
 "cells": [
  {
   "cell_type": "markdown",
   "metadata": {},
   "source": [
    "# Stack\n",
    "\n",
    "###### A stack is a linear data structure that stores items in a Last-In/First-Out (LIFO) or First-In/Last-Out (FILO) manner. In stack, a new element is added at one end and an element is removed from that end only. The insert and delete operations are often called push and pop.\n",
    "\n",
    "- Stack can be created by both Array and Linked List\n",
    "- But which one is better for Stack or Queue?\n",
    "- Array allows something called __Cash Locality__, which makes them technically faster when accessing its items in memory because they are right newxt to each other versus Linked List, which has them scattered all over memory.\n",
    "- Linked List have extra memory associated with them because we have to hold on to those pointers. But they have more dynamic memory. Thus, we can keep adding things to the list versus an array where you have either a static array or dynamic\n",
    "\n",
    "###### The functions associated with stack are:\n",
    "\n",
    "- __empty()__ – Returns whether the stack is empty – Time Complexity: O(1)\n",
    "- __size()__ – Returns the size of the stack – Time Complexity: O(1)\n",
    "- __top()__ – Returns a reference to the topmost element of the stack – Time Complexity: O(1)\n",
    "- __push(a)__ – Inserts the element ‘a’ at the top of the stack – Time Complexity: O(1)\n",
    "- __pop()__ – Deletes the topmost element of the stack – Time Complexity: O(1)\n",
    "\n",
    "###### Implementation\n",
    "\n",
    "There are various ways from which a stack can be implemented in Python. This article covers the implementation of a stack using data structures and modules from the Python library. \n",
    "Stack in Python can be implemented using the following ways: \n",
    "\n",
    "- list\n",
    "- Collections.deque\n",
    "- queue.LifoQueue"
   ]
  },
  {
   "cell_type": "markdown",
   "metadata": {},
   "source": [
    "### Implementation using list\n",
    "Python’s built-in data structure list can be used as a stack. Instead of push(), append() is used to add elements to the top of the stack while pop() removes the element in LIFO order. \n",
    "Unfortunately, the list has a few shortcomings. The biggest issue is that it can run into speed issues as it grows. The items in the list are stored next to each other in memory, if the stack grows bigger than the block of memory that currently holds it, then Python needs to do some memory allocations. This can lead to some append() calls taking much longer than other ones.\n",
    "\n"
   ]
  },
  {
   "cell_type": "code",
   "execution_count": 1,
   "metadata": {},
   "outputs": [
    {
     "name": "stdout",
     "output_type": "stream",
     "text": [
      "Initial stack\n",
      "['a', 'b', 'c']\n",
      "\n",
      "Elements popped from stack:\n",
      "c\n",
      "b\n",
      "a\n",
      "\n",
      "Stack after elements are popped:\n",
      "[]\n"
     ]
    }
   ],
   "source": [
    "\n",
    "# Python program to\n",
    "# demonstrate stack implementation\n",
    "# using list\n",
    " \n",
    " \n",
    "stack = []\n",
    " \n",
    "# append() function to push\n",
    "# element in the stack\n",
    "stack.append('a')\n",
    "stack.append('b')\n",
    "stack.append('c')\n",
    " \n",
    "print('Initial stack')\n",
    "print(stack)\n",
    " \n",
    "# pop() function to pop\n",
    "# element from stack in\n",
    "# LIFO order\n",
    "print('\\nElements popped from stack:')\n",
    "print(stack.pop())\n",
    "print(stack.pop())\n",
    "print(stack.pop())\n",
    " \n",
    "print('\\nStack after elements are popped:')\n",
    "print(stack)\n",
    " \n",
    "# uncommenting print(stack.pop()) \n",
    "# will cause an IndexError\n",
    "# as the stack is now empty"
   ]
  },
  {
   "cell_type": "markdown",
   "metadata": {},
   "source": [
    "### Implementation using singly linked list:\n",
    "The linked list has two methods addHead(item) and removeHead() that run in constant time. These two methods are suitable to implement a stack. \n",
    "\n",
    "- __getSize()__ – Get the number of items in the stack.\n",
    "- __isEmpty()__ – Return True if the stack is empty, False otherwise.\n",
    "- __peek()__ – Return the top item in the stack. If the stack is empty, raise an exception.\n",
    "- __push(value)__ – Push a value into the head of the stack.\n",
    "- __pop()__ – Remove and return a value in the head of the stack. If the stack is empty, raise an exception."
   ]
  },
  {
   "cell_type": "code",
   "execution_count": 6,
   "metadata": {},
   "outputs": [
    {
     "name": "stdout",
     "output_type": "stream",
     "text": [
      "Stack: 10->9->8->7->6->5->4->3->2->\n",
      "Pop: 10\n",
      "Pop: 9\n",
      "Pop: 8\n",
      "Pop: 7\n",
      "Pop: 6\n",
      "Stack: 5->4->3->2->\n"
     ]
    }
   ],
   "source": [
    "# Python program to demonstrate\n",
    "# stack implementation using a linked list.\n",
    "# node class\n",
    "class Node:\n",
    "    def __init__(self, value):\n",
    "        self.value = value\n",
    "        self.next = None\n",
    "\n",
    "        \n",
    "class Stack:\n",
    "    \n",
    "    # Initializing a stack.\n",
    "    # Use a dummy node, which is\n",
    "    # easier for handling edge cases.\n",
    "    def __init__(self):\n",
    "        self.head = Node(\"head\")\n",
    "        self.size = 0\n",
    " \n",
    "    # String representation of the stack\n",
    "    def __str__(self):\n",
    "        cur = self.head.next\n",
    "        out = \"\"\n",
    "        while cur:\n",
    "            out += str(cur.value) + \"->\"\n",
    "            cur = cur.next\n",
    "        return out[:-3]  \n",
    " \n",
    "   # Get the current size of the stack\n",
    "    def getSize(self):\n",
    "        return self.size\n",
    "    \n",
    "   # Check if the stack is empty\n",
    "    def isEmpty(self):\n",
    "        return self.size == 0\n",
    "    \n",
    "   # Get the top item of the stack\n",
    "    def peek(self):\n",
    "       \n",
    "      # Sanitary check to see if we\n",
    "      # are peeking an empty stack.\n",
    "        if self.isEmpty():\n",
    "            raise Exception(\"Peeking from an empty stack\")\n",
    "        return self.head.next.value\n",
    " \n",
    "    # Push a value into the stack.\n",
    "    def push(self, value):\n",
    "        node = Node(value)\n",
    "        node.next = self.head.next\n",
    "        self.head.next = node\n",
    "        self.size += 1\n",
    "      \n",
    "    # Remove a value from the stack and return.\n",
    "    def pop(self):\n",
    "        if self.isEmpty():\n",
    "            raise Exception(\"Popping from an empty stack\")\n",
    "        remove = self.head.next\n",
    "        self.head.next = self.head.next.next\n",
    "        self.size -= 1\n",
    "        return remove.value\n",
    "\n",
    "    \n",
    "\n",
    "# Driver Code\n",
    "\n",
    "if __name__ == \"__main__\":\n",
    "    stack = Stack()\n",
    "    \n",
    "    for i in range(1, 11):\n",
    "        stack.push(i)\n",
    "        \n",
    "    print(f\"Stack: {stack}\")\n",
    " \n",
    "    for _ in range(1, 6):\n",
    "        remove = stack.pop()\n",
    "        print(f\"Pop: {remove}\")\n",
    "        \n",
    "    print(f\"Stack: {stack}\")"
   ]
  },
  {
   "cell_type": "code",
   "execution_count": 8,
   "metadata": {},
   "outputs": [
    {
     "name": "stdout",
     "output_type": "stream",
     "text": [
      "5->4->3->2->\n"
     ]
    }
   ],
   "source": [
    "print(stack)"
   ]
  },
  {
   "cell_type": "markdown",
   "metadata": {},
   "source": [
    "### Implementation using queue module\n",
    "Queue module also has a LIFO Queue, which is basically a Stack. Data is inserted into Queue using the put() function and get() takes data out from the Queue. \n",
    "\n",
    "There are various functions available in this module: \n",
    "\n",
    "- __maxsize__ – Number of items allowed in the queue.\n",
    "- __empty()__ – Return True if the queue is empty, False otherwise.\n",
    "- __full()__ – Return True if there are maxsize items in the queue. If the queue was initialized with maxsize=0 (the default), then full() never returns True.\n",
    "- __get()__ – Remove and return an item from the queue. If the queue is empty, wait until an item is available.\n",
    "- __get_nowait()__ – Return an item if one is immediately available, else raise QueueEmpty.\n",
    "- __put(item)__ – Put an item into the queue. If the queue is full, wait until a free slot is available before adding the item.\n",
    "- __put_nowait(item)__ – Put an item into the queue without blocking.\n",
    "- __qsize()__ – Return the number of items in the queue. If no free slot is immediately available, raise QueueFull."
   ]
  },
  {
   "cell_type": "code",
   "execution_count": 3,
   "metadata": {},
   "outputs": [
    {
     "name": "stdout",
     "output_type": "stream",
     "text": [
      "0\n",
      "Full:  True\n",
      "Size:  3\n",
      "\n",
      "Elements popped from the stack\n",
      "c\n",
      "b\n",
      "a\n",
      "\n",
      "Empty:  True\n"
     ]
    }
   ],
   "source": [
    "# Python program to\n",
    "# demonstrate stack implementation\n",
    "# using queue module\n",
    " \n",
    " \n",
    "from queue import LifoQueue\n",
    " \n",
    "# Initializing a stack\n",
    "stack = LifoQueue(maxsize = 3)\n",
    " \n",
    "# qsize() show the number of elements\n",
    "# in the stack\n",
    "print(stack.qsize())\n",
    "  \n",
    "# put() function to push\n",
    "# element in the stack\n",
    "stack.put('a')\n",
    "stack.put('b')\n",
    "stack.put('c')\n",
    " \n",
    "print(\"Full: \", stack.full())\n",
    "print(\"Size: \", stack.qsize())\n",
    " \n",
    "# get() function to pop\n",
    "# element from stack in\n",
    "# LIFO order\n",
    "print('\\nElements popped from the stack')\n",
    "print(stack.get())\n",
    "print(stack.get())\n",
    "print(stack.get())\n",
    " \n",
    "print(\"\\nEmpty: \", stack.empty())"
   ]
  },
  {
   "cell_type": "markdown",
   "metadata": {},
   "source": [
    "### Implementation using collections.deque:\n",
    "Python stack can be implemented using the deque class from the collections module. Deque is preferred over the list in the cases where we need quicker append and pop operations from both the ends of the container, as deque provides an O(1) time complexity for append and pop operations as compared to list which provides O(n) time complexity. \n",
    "The same methods on deque as seen in the list are used, append() and pop()."
   ]
  },
  {
   "cell_type": "code",
   "execution_count": 2,
   "metadata": {},
   "outputs": [
    {
     "ename": "ModuleNotFoundError",
     "evalue": "No module named 'Collections'",
     "output_type": "error",
     "traceback": [
      "\u001b[1;31m---------------------------------------------------------------------------\u001b[0m",
      "\u001b[1;31mModuleNotFoundError\u001b[0m                       Traceback (most recent call last)",
      "\u001b[1;32m<ipython-input-2-52c9ca99e5cc>\u001b[0m in \u001b[0;36m<module>\u001b[1;34m\u001b[0m\n\u001b[0;32m      4\u001b[0m \u001b[1;33m\u001b[0m\u001b[0m\n\u001b[0;32m      5\u001b[0m \u001b[1;33m\u001b[0m\u001b[0m\n\u001b[1;32m----> 6\u001b[1;33m \u001b[1;32mfrom\u001b[0m \u001b[0mCollections\u001b[0m \u001b[1;32mimport\u001b[0m \u001b[0mdeque\u001b[0m\u001b[1;33m\u001b[0m\u001b[1;33m\u001b[0m\u001b[0m\n\u001b[0m\u001b[0;32m      7\u001b[0m \u001b[1;33m\u001b[0m\u001b[0m\n\u001b[0;32m      8\u001b[0m \u001b[0mstack\u001b[0m \u001b[1;33m=\u001b[0m \u001b[0mdeque\u001b[0m\u001b[1;33m(\u001b[0m\u001b[1;33m)\u001b[0m\u001b[1;33m\u001b[0m\u001b[1;33m\u001b[0m\u001b[0m\n",
      "\u001b[1;31mModuleNotFoundError\u001b[0m: No module named 'Collections'"
     ]
    }
   ],
   "source": [
    "# Python program to\n",
    "# demonstrate stack implementation\n",
    "# using collections.deque\n",
    " \n",
    " \n",
    "from Collections import deque\n",
    " \n",
    "stack = deque()\n",
    " \n",
    "# append() function to push\n",
    "# element in the stack\n",
    "stack.append('a')\n",
    "stack.append('b')\n",
    "stack.append('c')\n",
    " \n",
    "print('Initial stack:')\n",
    "print(stack)\n",
    " \n",
    "# pop() function to pop\n",
    "# element from stack in\n",
    "# LIFO order\n",
    "print('\\nElements popped from stack:')\n",
    "print(stack.pop())\n",
    "print(stack.pop())\n",
    "print(stack.pop())\n",
    " \n",
    "print('\\nStack after elements are popped:')\n",
    "print(stack)\n",
    " \n",
    "# uncommenting print(stack.pop()) \n",
    "# will cause an IndexError\n",
    "# as the stack is now empty"
   ]
  },
  {
   "cell_type": "code",
   "execution_count": null,
   "metadata": {},
   "outputs": [],
   "source": []
  }
 ],
 "metadata": {
  "kernelspec": {
   "display_name": "Python 3",
   "language": "python",
   "name": "python3"
  },
  "language_info": {
   "codemirror_mode": {
    "name": "ipython",
    "version": 3
   },
   "file_extension": ".py",
   "mimetype": "text/x-python",
   "name": "python",
   "nbconvert_exporter": "python",
   "pygments_lexer": "ipython3",
   "version": "3.7.6"
  }
 },
 "nbformat": 4,
 "nbformat_minor": 4
}
