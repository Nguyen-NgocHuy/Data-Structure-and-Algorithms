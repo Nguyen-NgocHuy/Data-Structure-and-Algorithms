{
 "cells": [
  {
   "cell_type": "markdown",
   "metadata": {},
   "source": [
    "# Insertion Sort\n",
    "\n",
    "##### DESCRIPTION\n",
    "- Insertion Sort is very simple and intuitive to implement, which is one of the reasons it's generally taught at an early stage in programming. It's a stable, in-place algorithm, __that works really well for nearly-sorted or small arrays__.\n",
    "\n",
    "- Insertion sort may seem like a slow algorithm, and indeed in most cases it is too slow for any practical use with its O(n2) time complexity. However, as we've mentioned, it's very efficient on small arrays and on nearly sorted arrays.\n",
    "\n",
    "- It remains a great algorithm for introducing future software developers into the world of sorting algorithms, and is still used in practice for specific scenarios in which it shines.\n",
    "\n",
    "\n",
    "\n",
    "##### DISCUSSION\n",
    "- Although it is one of the elementary sorting algorithms with O(n2) worst-case time, insertion sort is the algorithm of choice either when the data is nearly sorted (because it is adaptive) or when the problem size is small (because it has low overhead).\n",
    "\n",
    "- For these reasons, and because it is also stable, __insertion sort is often used as the recursive base case (when the problem size is small) for higher overhead divide-and-conquer sorting algorithms, such as merge sort or quick sort__.\n",
    "\n",
    "##### PROPERTIES\n",
    "- Stable\n",
    "- O(1) extra space\n",
    "- O(n2) comparisons and swaps\n",
    "- Adaptive: O(n) time when nearly sorted\n",
    "- Very low overhead\n",
    "\n",
    "##### ALGORITHM\n",
    "for i = 2:n, \\\n",
    "&nbsp;&nbsp;&nbsp;&nbsp;&nbsp;&nbsp;    for (k = i; k > 1 and a[k] < a[k-1]; k--) \\\n",
    "&nbsp;&nbsp;&nbsp;&nbsp;&nbsp;&nbsp;&nbsp;&nbsp;&nbsp;        swap a[k,k-1] \\\n",
    "&nbsp;&nbsp;&nbsp;&nbsp;&nbsp;&nbsp;    → invariant: a[1..i] is sorted \\\n",
    "end\n"
   ]
  },
  {
   "cell_type": "code",
   "execution_count": 35,
   "metadata": {},
   "outputs": [
    {
     "name": "stdout",
     "output_type": "stream",
     "text": [
      "1 44\n",
      "in while loop [99, 99, 6, 2, 1, 5, 63, 87, 283, 4, 0]\n",
      "in for loop [44, 99, 6, 2, 1, 5, 63, 87, 283, 4, 0]\n",
      "2 6\n",
      "in while loop [44, 99, 99, 2, 1, 5, 63, 87, 283, 4, 0]\n",
      "in while loop [44, 44, 99, 2, 1, 5, 63, 87, 283, 4, 0]\n",
      "in for loop [6, 44, 99, 2, 1, 5, 63, 87, 283, 4, 0]\n",
      "3 2\n",
      "in while loop [6, 44, 99, 99, 1, 5, 63, 87, 283, 4, 0]\n",
      "in while loop [6, 44, 44, 99, 1, 5, 63, 87, 283, 4, 0]\n",
      "in while loop [6, 6, 44, 99, 1, 5, 63, 87, 283, 4, 0]\n",
      "in for loop [2, 6, 44, 99, 1, 5, 63, 87, 283, 4, 0]\n",
      "4 1\n",
      "in while loop [2, 6, 44, 99, 99, 5, 63, 87, 283, 4, 0]\n",
      "in while loop [2, 6, 44, 44, 99, 5, 63, 87, 283, 4, 0]\n",
      "in while loop [2, 6, 6, 44, 99, 5, 63, 87, 283, 4, 0]\n",
      "in while loop [2, 2, 6, 44, 99, 5, 63, 87, 283, 4, 0]\n",
      "in for loop [1, 2, 6, 44, 99, 5, 63, 87, 283, 4, 0]\n",
      "5 5\n",
      "in while loop [1, 2, 6, 44, 99, 99, 63, 87, 283, 4, 0]\n",
      "in while loop [1, 2, 6, 44, 44, 99, 63, 87, 283, 4, 0]\n",
      "in while loop [1, 2, 6, 6, 44, 99, 63, 87, 283, 4, 0]\n",
      "in for loop [1, 2, 5, 6, 44, 99, 63, 87, 283, 4, 0]\n",
      "6 63\n",
      "in while loop [1, 2, 5, 6, 44, 99, 99, 87, 283, 4, 0]\n",
      "in for loop [1, 2, 5, 6, 44, 63, 99, 87, 283, 4, 0]\n",
      "7 87\n",
      "in while loop [1, 2, 5, 6, 44, 63, 99, 99, 283, 4, 0]\n",
      "in for loop [1, 2, 5, 6, 44, 63, 87, 99, 283, 4, 0]\n",
      "8 283\n",
      "in for loop [1, 2, 5, 6, 44, 63, 87, 99, 283, 4, 0]\n",
      "9 4\n",
      "in while loop [1, 2, 5, 6, 44, 63, 87, 99, 283, 283, 0]\n",
      "in while loop [1, 2, 5, 6, 44, 63, 87, 99, 99, 283, 0]\n",
      "in while loop [1, 2, 5, 6, 44, 63, 87, 87, 99, 283, 0]\n",
      "in while loop [1, 2, 5, 6, 44, 63, 63, 87, 99, 283, 0]\n",
      "in while loop [1, 2, 5, 6, 44, 44, 63, 87, 99, 283, 0]\n",
      "in while loop [1, 2, 5, 6, 6, 44, 63, 87, 99, 283, 0]\n",
      "in while loop [1, 2, 5, 5, 6, 44, 63, 87, 99, 283, 0]\n",
      "in for loop [1, 2, 4, 5, 6, 44, 63, 87, 99, 283, 0]\n",
      "10 0\n",
      "in while loop [1, 2, 4, 5, 6, 44, 63, 87, 99, 283, 283]\n",
      "in while loop [1, 2, 4, 5, 6, 44, 63, 87, 99, 99, 283]\n",
      "in while loop [1, 2, 4, 5, 6, 44, 63, 87, 87, 99, 283]\n",
      "in while loop [1, 2, 4, 5, 6, 44, 63, 63, 87, 99, 283]\n",
      "in while loop [1, 2, 4, 5, 6, 44, 44, 63, 87, 99, 283]\n",
      "in while loop [1, 2, 4, 5, 6, 6, 44, 63, 87, 99, 283]\n",
      "in while loop [1, 2, 4, 5, 5, 6, 44, 63, 87, 99, 283]\n",
      "in while loop [1, 2, 4, 4, 5, 6, 44, 63, 87, 99, 283]\n",
      "in while loop [1, 2, 2, 4, 5, 6, 44, 63, 87, 99, 283]\n",
      "in while loop [1, 1, 2, 4, 5, 6, 44, 63, 87, 99, 283]\n",
      "in for loop [0, 1, 2, 4, 5, 6, 44, 63, 87, 99, 283]\n",
      "numbers after function call [0, 1, 2, 4, 5, 6, 44, 63, 87, 99, 283]\n",
      "Thus, this insertion_sort() function has in-plane effect. The array will be changed in global scope without return\n"
     ]
    }
   ],
   "source": [
    "numbers = [99, 44, 6, 2, 1, 5, 63, 87, 283, 4, 0]\n",
    "\n",
    "def insertion_sort(array):\n",
    "    '''Insertion Sort'''\n",
    "\n",
    "    for index in range(1, len(array)):\n",
    "        \n",
    "        currentPosition = index\n",
    "        currentValue = array[index]\n",
    "        \n",
    "        print(currentPosition, currentValue)\n",
    " \n",
    "        while currentPosition > 0 and array[currentPosition-1] > currentValue:\n",
    "            '''That is, if we first checked whether array[currentPosition-1] > currentValue\n",
    "            before checking whether currentPosition > 0'''\n",
    "            array[currentPosition] = array[currentPosition-1]\n",
    "            currentPosition -=1\n",
    "            print('in while loop',array)\n",
    "            \n",
    "        array[currentPosition] = currentValue\n",
    "        \n",
    "        print('in for loop',array)\n",
    "            \n",
    "            \n",
    "insertion_sort(numbers)\n",
    "\n",
    "print('numbers after function call',numbers)\n",
    "print('Thus, this insertion_sort() function has in-plane effect. The array will be changed in global scope without return')"
   ]
  },
  {
   "cell_type": "code",
   "execution_count": 26,
   "metadata": {},
   "outputs": [
    {
     "name": "stdout",
     "output_type": "stream",
     "text": [
      "Insertion Sort\n"
     ]
    }
   ],
   "source": [
    "print(insertion_sort.__doc__)"
   ]
  },
  {
   "cell_type": "code",
   "execution_count": 27,
   "metadata": {},
   "outputs": [],
   "source": [
    "class Point:\n",
    "    def __init__(self, x, y):\n",
    "        self.x = x\n",
    "        self.y = y\n",
    "\n",
    "    def __str__(self):\n",
    "        return str.format(\"({},{})\", self.x, self.y)"
   ]
  },
  {
   "cell_type": "code",
   "execution_count": 28,
   "metadata": {},
   "outputs": [],
   "source": [
    "def insertion_sort_with_compare_function(array, compare_function):\n",
    "    for index in range(1, len(array)):\n",
    "        currentValue = array[index]\n",
    "        currentPosition = index\n",
    "\n",
    "        while currentPosition > 0 and compare_function(array[currentPosition - 1], currentValue):\n",
    "            array[currentPosition] = array[currentPosition - 1]\n",
    "            currentPosition = currentPosition - 1\n",
    "\n",
    "        array[currentPosition] = currentValue"
   ]
  },
  {
   "cell_type": "code",
   "execution_count": 32,
   "metadata": {},
   "outputs": [
    {
     "name": "stdout",
     "output_type": "stream",
     "text": [
      "sort by the x coordinate, ascending\n",
      "(1,2)\n",
      "(3,1)\n",
      "(4,4)\n",
      "(10,0)\n",
      "sort by the y coordinate, ascending\n",
      "(10,0)\n",
      "(3,1)\n",
      "(1,2)\n",
      "(4,4)\n"
     ]
    }
   ],
   "source": [
    "A = Point(1,2)\n",
    "B = Point(4,4)\n",
    "C = Point(3,1)\n",
    "D = Point(10,0)\n",
    "\n",
    "array = [A,B,C,D]\n",
    "\n",
    "# We sort by the x coordinate, ascending\n",
    "insertion_sort_with_compare_function(array, lambda a, b: a.x > b.x)\n",
    "\n",
    "print('sort by the x coordinate, ascending')\n",
    "for point in array:\n",
    "    print(point)\n",
    "    \n",
    "# We sort by the y coordinate, ascending\n",
    "insertion_sort_with_compare_function(array, lambda a, b: a.y > b.y)\n",
    "\n",
    "print('sort by the y coordinate, ascending')\n",
    "for point in array:\n",
    "    print(point)"
   ]
  }
 ],
 "metadata": {
  "kernelspec": {
   "display_name": "Python 3",
   "language": "python",
   "name": "python3"
  },
  "language_info": {
   "codemirror_mode": {
    "name": "ipython",
    "version": 3
   },
   "file_extension": ".py",
   "mimetype": "text/x-python",
   "name": "python",
   "nbconvert_exporter": "python",
   "pygments_lexer": "ipython3",
   "version": "3.7.6"
  }
 },
 "nbformat": 4,
 "nbformat_minor": 4
}
