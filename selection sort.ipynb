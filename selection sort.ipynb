{
 "cells": [
  {
   "cell_type": "markdown",
   "metadata": {},
   "source": [
    "# selection sort"
   ]
  },
  {
   "cell_type": "markdown",
   "metadata": {},
   "source": [
    "- Selection sort is a sorting algorithm that sorts the elements in increasing order. After finding the smallest element in the unsorted part of the array, it swaps that element with the first position in the list.\n",
    "\n",
    "- Furthermore, another difference between bubble sort and selection sort is that the selection sort is efficient compared to the bubble sort.\n",
    "\n",
    "Speed\n",
    "\n",
    "- Moreover, one other difference between bubble sort and selection sort is that the bubble sort uses item exchanging while selection sort uses item selection."
   ]
  },
  {
   "cell_type": "code",
   "execution_count": 3,
   "metadata": {},
   "outputs": [
    {
     "name": "stdout",
     "output_type": "stream",
     "text": [
      "[44, 99, 6, 2, 1, 5, 63, 87, 283, 4, 0]\n",
      "[6, 99, 44, 2, 1, 5, 63, 87, 283, 4, 0]\n",
      "[2, 99, 44, 6, 1, 5, 63, 87, 283, 4, 0]\n",
      "[1, 99, 44, 6, 2, 5, 63, 87, 283, 4, 0]\n",
      "[1, 99, 44, 6, 2, 5, 63, 87, 283, 4, 0]\n",
      "[1, 99, 44, 6, 2, 5, 63, 87, 283, 4, 0]\n",
      "[1, 99, 44, 6, 2, 5, 63, 87, 283, 4, 0]\n",
      "[1, 99, 44, 6, 2, 5, 63, 87, 283, 4, 0]\n",
      "[1, 99, 44, 6, 2, 5, 63, 87, 283, 4, 0]\n",
      "[0, 99, 44, 6, 2, 5, 63, 87, 283, 4, 1]\n",
      "[0, 44, 99, 6, 2, 5, 63, 87, 283, 4, 1]\n",
      "[0, 6, 99, 44, 2, 5, 63, 87, 283, 4, 1]\n",
      "[0, 2, 99, 44, 6, 5, 63, 87, 283, 4, 1]\n",
      "[0, 2, 99, 44, 6, 5, 63, 87, 283, 4, 1]\n",
      "[0, 2, 99, 44, 6, 5, 63, 87, 283, 4, 1]\n",
      "[0, 2, 99, 44, 6, 5, 63, 87, 283, 4, 1]\n",
      "[0, 2, 99, 44, 6, 5, 63, 87, 283, 4, 1]\n",
      "[0, 2, 99, 44, 6, 5, 63, 87, 283, 4, 1]\n",
      "[0, 1, 99, 44, 6, 5, 63, 87, 283, 4, 2]\n",
      "[0, 1, 44, 99, 6, 5, 63, 87, 283, 4, 2]\n",
      "[0, 1, 6, 99, 44, 5, 63, 87, 283, 4, 2]\n",
      "[0, 1, 5, 99, 44, 6, 63, 87, 283, 4, 2]\n",
      "[0, 1, 5, 99, 44, 6, 63, 87, 283, 4, 2]\n",
      "[0, 1, 5, 99, 44, 6, 63, 87, 283, 4, 2]\n",
      "[0, 1, 5, 99, 44, 6, 63, 87, 283, 4, 2]\n",
      "[0, 1, 4, 99, 44, 6, 63, 87, 283, 5, 2]\n",
      "[0, 1, 2, 99, 44, 6, 63, 87, 283, 5, 4]\n",
      "[0, 1, 2, 44, 99, 6, 63, 87, 283, 5, 4]\n",
      "[0, 1, 2, 6, 99, 44, 63, 87, 283, 5, 4]\n",
      "[0, 1, 2, 6, 99, 44, 63, 87, 283, 5, 4]\n",
      "[0, 1, 2, 6, 99, 44, 63, 87, 283, 5, 4]\n",
      "[0, 1, 2, 6, 99, 44, 63, 87, 283, 5, 4]\n",
      "[0, 1, 2, 5, 99, 44, 63, 87, 283, 6, 4]\n",
      "[0, 1, 2, 4, 99, 44, 63, 87, 283, 6, 5]\n",
      "[0, 1, 2, 4, 44, 99, 63, 87, 283, 6, 5]\n",
      "[0, 1, 2, 4, 44, 99, 63, 87, 283, 6, 5]\n",
      "[0, 1, 2, 4, 44, 99, 63, 87, 283, 6, 5]\n",
      "[0, 1, 2, 4, 44, 99, 63, 87, 283, 6, 5]\n",
      "[0, 1, 2, 4, 6, 99, 63, 87, 283, 44, 5]\n",
      "[0, 1, 2, 4, 5, 99, 63, 87, 283, 44, 6]\n",
      "[0, 1, 2, 4, 5, 63, 99, 87, 283, 44, 6]\n",
      "[0, 1, 2, 4, 5, 63, 99, 87, 283, 44, 6]\n",
      "[0, 1, 2, 4, 5, 63, 99, 87, 283, 44, 6]\n",
      "[0, 1, 2, 4, 5, 44, 99, 87, 283, 63, 6]\n",
      "[0, 1, 2, 4, 5, 6, 99, 87, 283, 63, 44]\n",
      "[0, 1, 2, 4, 5, 6, 87, 99, 283, 63, 44]\n",
      "[0, 1, 2, 4, 5, 6, 87, 99, 283, 63, 44]\n",
      "[0, 1, 2, 4, 5, 6, 63, 99, 283, 87, 44]\n",
      "[0, 1, 2, 4, 5, 6, 44, 99, 283, 87, 63]\n",
      "[0, 1, 2, 4, 5, 6, 44, 99, 283, 87, 63]\n",
      "[0, 1, 2, 4, 5, 6, 44, 87, 283, 99, 63]\n",
      "[0, 1, 2, 4, 5, 6, 44, 63, 283, 99, 87]\n",
      "[0, 1, 2, 4, 5, 6, 44, 63, 99, 283, 87]\n",
      "[0, 1, 2, 4, 5, 6, 44, 63, 87, 283, 99]\n",
      "[0, 1, 2, 4, 5, 6, 44, 63, 87, 99, 283]\n",
      "the total of loop: 55\n"
     ]
    }
   ],
   "source": [
    "numbers = [99, 44, 6, 2, 1, 5, 63, 87, 283, 4, 0]\n",
    "\n",
    "def selection_sort(numbers):\n",
    "    count = 0\n",
    "    for i in range(0,len(numbers)):\n",
    "        for j in range(i+1,len(numbers)):\n",
    "            count += 1\n",
    "            if numbers[i]>numbers[j]:\n",
    "                temp = numbers[i]\n",
    "                numbers[i] = numbers[j]\n",
    "                numbers[j] = temp\n",
    "            print(numbers)\n",
    "    print('the total of loop:',count)\n",
    "    \n",
    "selection_sort(numbers)\n"
   ]
  },
  {
   "cell_type": "code",
   "execution_count": 2,
   "metadata": {},
   "outputs": [
    {
     "name": "stdout",
     "output_type": "stream",
     "text": [
      "[0, 44, 6, 2, 1, 5, 63, 87, 283, 4, 99]\n",
      "[0, 1, 6, 2, 44, 5, 63, 87, 283, 4, 99]\n",
      "[0, 1, 2, 6, 44, 5, 63, 87, 283, 4, 99]\n",
      "[0, 1, 2, 4, 44, 5, 63, 87, 283, 6, 99]\n",
      "[0, 1, 2, 4, 5, 44, 63, 87, 283, 6, 99]\n",
      "[0, 1, 2, 4, 5, 6, 63, 87, 283, 44, 99]\n",
      "[0, 1, 2, 4, 5, 6, 44, 87, 283, 63, 99]\n",
      "[0, 1, 2, 4, 5, 6, 44, 63, 283, 87, 99]\n",
      "[0, 1, 2, 4, 5, 6, 44, 63, 87, 283, 99]\n",
      "[0, 1, 2, 4, 5, 6, 44, 63, 87, 99, 283]\n",
      "[0, 1, 2, 4, 5, 6, 44, 63, 87, 99, 283]\n",
      "the total of loop: 55\n"
     ]
    }
   ],
   "source": [
    "numbers = [99, 44, 6, 2, 1, 5, 63, 87, 283, 4, 0]\n",
    "\n",
    "def selection_sort(numbers):\n",
    "    count = 0\n",
    "    for i in range(0,len(numbers)):\n",
    "        imin = i\n",
    "        \n",
    "        for j in range(i+1,len(numbers)):\n",
    "            count+=1\n",
    "            if numbers[imin]>numbers[j]:\n",
    "                imin = j\n",
    "        \n",
    "        temp = numbers[i]\n",
    "        numbers[i] = numbers[imin]\n",
    "        numbers[imin] = temp\n",
    "        print(numbers)\n",
    "        \n",
    "    print('the total of loop:',count)\n",
    "    \n",
    "selection_sort(numbers)"
   ]
  },
  {
   "cell_type": "code",
   "execution_count": 5,
   "metadata": {},
   "outputs": [
    {
     "name": "stdout",
     "output_type": "stream",
     "text": [
      "[99, 44, 6, 2, 1, 5, 63, 87, 0, 4, 283]\n",
      "[4, 44, 6, 2, 1, 5, 63, 87, 0, 99, 283]\n",
      "[4, 44, 6, 2, 1, 5, 63, 0, 87, 99, 283]\n",
      "[4, 44, 6, 2, 1, 5, 0, 63, 87, 99, 283]\n",
      "[4, 0, 6, 2, 1, 5, 44, 63, 87, 99, 283]\n",
      "[4, 0, 5, 2, 1, 6, 44, 63, 87, 99, 283]\n",
      "[4, 0, 1, 2, 5, 6, 44, 63, 87, 99, 283]\n",
      "[2, 0, 1, 4, 5, 6, 44, 63, 87, 99, 283]\n",
      "[1, 0, 2, 4, 5, 6, 44, 63, 87, 99, 283]\n",
      "[0, 1, 2, 4, 5, 6, 44, 63, 87, 99, 283]\n",
      "the total of loop: 55\n"
     ]
    }
   ],
   "source": [
    "numbers = [99, 44, 6, 2, 1, 5, 63, 87, 283, 4, 0]\n",
    "\n",
    "def selection_sort(numbers):\n",
    "    count = 0\n",
    "    for i in range(len(numbers)-1, 0, -1):\n",
    "        posMax = 0\n",
    "        \n",
    "        for j in range(1, i+1):\n",
    "            count+=1\n",
    "            if numbers[j]>numbers[posMax]:\n",
    "                posMax = j\n",
    "        \n",
    "        temp = numbers[i]\n",
    "        numbers[i] = numbers[posMax]\n",
    "        numbers[posMax] = temp\n",
    "        print(numbers)\n",
    "        \n",
    "    print('the total of loop:',count)\n",
    "    \n",
    "selection_sort(numbers)"
   ]
  },
  {
   "cell_type": "code",
   "execution_count": null,
   "metadata": {},
   "outputs": [],
   "source": []
  }
 ],
 "metadata": {
  "kernelspec": {
   "display_name": "Python 3",
   "language": "python",
   "name": "python3"
  },
  "language_info": {
   "codemirror_mode": {
    "name": "ipython",
    "version": 3
   },
   "file_extension": ".py",
   "mimetype": "text/x-python",
   "name": "python",
   "nbconvert_exporter": "python",
   "pygments_lexer": "ipython3",
   "version": "3.7.6"
  }
 },
 "nbformat": 4,
 "nbformat_minor": 4
}
