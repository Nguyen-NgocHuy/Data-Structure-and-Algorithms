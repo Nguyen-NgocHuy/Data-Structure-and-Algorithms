{
 "cells": [
  {
   "cell_type": "markdown",
   "metadata": {},
   "source": [
    "# selection sort\n",
    "\n",
    "##### DESCRIPTION\n",
    "Selection sort is a sorting algorithm that sorts the elements in increasing order. After finding the smallest element in the unsorted part of the array, it swaps that element with the first position in the list.\n",
    "\n",
    "##### DISCUSSION\n",
    "From the comparions presented here, one might conclude that selection sort __should never be used__. It does not adapt to the data in any way (notice that the four animations above run in lock step), so its runtime is always quadratic.\n",
    "\n",
    "However, __selection sort has the property of minimizing the number of swaps__. In applications __where the cost of swapping items is high__, selection sort very well may be the algorithm of choice.\n",
    "\n",
    "##### PROPERTIES\n",
    "- Not stable\n",
    "- O(1) extra space\n",
    "- Θ(n2) comparisons\n",
    "- Θ(n) swaps\n",
    "- Not adaptive\n",
    "\n",
    "##### ALGORITHM\n",
    "for i = 1:n,\\\n",
    "&nbsp;&nbsp;&nbsp;&nbsp;&nbsp;&nbsp;    k = i \\\n",
    "&nbsp;&nbsp;&nbsp;&nbsp;&nbsp;&nbsp;    for j = i+1:n, if a[j] < a[k], k = j\\\n",
    "&nbsp;&nbsp;&nbsp;&nbsp;&nbsp;&nbsp;   → invariant: a[k] smallest of a[i..n] \\\n",
    "&nbsp;&nbsp;&nbsp;&nbsp;&nbsp;&nbsp;    swap a[i,k] \\\n",
    "&nbsp;&nbsp;&nbsp;&nbsp;&nbsp;&nbsp;    → invariant: a[1..i] in final position \\\n",
    "end\n",
    "\n"
   ]
  },
  {
   "cell_type": "code",
   "execution_count": 3,
   "metadata": {},
   "outputs": [
    {
     "name": "stdout",
     "output_type": "stream",
     "text": [
      "[0, 44, 6, 2, 1, 5, 63, 87, 283, 4, 99]\n",
      "[0, 1, 6, 2, 44, 5, 63, 87, 283, 4, 99]\n",
      "[0, 1, 2, 6, 44, 5, 63, 87, 283, 4, 99]\n",
      "[0, 1, 2, 4, 44, 5, 63, 87, 283, 6, 99]\n",
      "[0, 1, 2, 4, 5, 44, 63, 87, 283, 6, 99]\n",
      "[0, 1, 2, 4, 5, 6, 63, 87, 283, 44, 99]\n",
      "[0, 1, 2, 4, 5, 6, 44, 87, 283, 63, 99]\n",
      "[0, 1, 2, 4, 5, 6, 44, 63, 283, 87, 99]\n",
      "[0, 1, 2, 4, 5, 6, 44, 63, 87, 283, 99]\n",
      "[0, 1, 2, 4, 5, 6, 44, 63, 87, 99, 283]\n",
      "[0, 1, 2, 4, 5, 6, 44, 63, 87, 99, 283]\n",
      "the total of loop: 55\n",
      "numbers after function call [0, 1, 2, 4, 5, 6, 44, 63, 87, 99, 283]\n",
      "Thus, this selection_sort() function has in-plane effect. The array will be changed in global scope\n"
     ]
    }
   ],
   "source": [
    "numbers = [99, 44, 6, 2, 1, 5, 63, 87, 283, 4, 0]\n",
    "\n",
    "def selection_sort(numbers):\n",
    "    count = 0\n",
    "    for i in range(0,len(numbers)):\n",
    "        imin = i\n",
    "        \n",
    "        for j in range(i+1,len(numbers)):\n",
    "            count+=1\n",
    "            if numbers[imin]>numbers[j]:\n",
    "                imin = j\n",
    "        \n",
    "        temp = numbers[i]\n",
    "        numbers[i] = numbers[imin]\n",
    "        numbers[imin] = temp\n",
    "        print(numbers)\n",
    "        \n",
    "    print('the total of loop:',count)\n",
    "    \n",
    "selection_sort(numbers)\n",
    "print('numbers after function call',numbers)\n",
    "print('Thus, this selection_sort() function has in-plane effect. The array will be changed in global scope')"
   ]
  },
  {
   "cell_type": "code",
   "execution_count": 5,
   "metadata": {},
   "outputs": [
    {
     "name": "stdout",
     "output_type": "stream",
     "text": [
      "[99, 44, 6, 2, 1, 5, 63, 87, 0, 4, 283]\n",
      "[4, 44, 6, 2, 1, 5, 63, 87, 0, 99, 283]\n",
      "[4, 44, 6, 2, 1, 5, 63, 0, 87, 99, 283]\n",
      "[4, 44, 6, 2, 1, 5, 0, 63, 87, 99, 283]\n",
      "[4, 0, 6, 2, 1, 5, 44, 63, 87, 99, 283]\n",
      "[4, 0, 5, 2, 1, 6, 44, 63, 87, 99, 283]\n",
      "[4, 0, 1, 2, 5, 6, 44, 63, 87, 99, 283]\n",
      "[2, 0, 1, 4, 5, 6, 44, 63, 87, 99, 283]\n",
      "[1, 0, 2, 4, 5, 6, 44, 63, 87, 99, 283]\n",
      "[0, 1, 2, 4, 5, 6, 44, 63, 87, 99, 283]\n",
      "the total of loop: 55\n"
     ]
    }
   ],
   "source": [
    "numbers = [99, 44, 6, 2, 1, 5, 63, 87, 283, 4, 0]\n",
    "\n",
    "def selection_sort(numbers):\n",
    "    count = 0\n",
    "    for i in range(len(numbers)-1, 0, -1):\n",
    "        posMax = 0\n",
    "        \n",
    "        for j in range(1, i+1):\n",
    "            count+=1\n",
    "            if numbers[j]>numbers[posMax]:\n",
    "                posMax = j\n",
    "        \n",
    "        temp = numbers[i]\n",
    "        numbers[i] = numbers[posMax]\n",
    "        numbers[posMax] = temp\n",
    "        print(numbers)\n",
    "        \n",
    "    print('the total of loop:',count)\n",
    "    \n",
    "selection_sort(numbers)"
   ]
  },
  {
   "cell_type": "markdown",
   "metadata": {},
   "source": [
    "###### The code below is not followed the Selection Sort rule"
   ]
  },
  {
   "cell_type": "code",
   "execution_count": 3,
   "metadata": {},
   "outputs": [
    {
     "name": "stdout",
     "output_type": "stream",
     "text": [
      "[44, 99, 6, 2, 1, 5, 63, 87, 283, 4, 0]\n",
      "[6, 99, 44, 2, 1, 5, 63, 87, 283, 4, 0]\n",
      "[2, 99, 44, 6, 1, 5, 63, 87, 283, 4, 0]\n",
      "[1, 99, 44, 6, 2, 5, 63, 87, 283, 4, 0]\n",
      "[1, 99, 44, 6, 2, 5, 63, 87, 283, 4, 0]\n",
      "[1, 99, 44, 6, 2, 5, 63, 87, 283, 4, 0]\n",
      "[1, 99, 44, 6, 2, 5, 63, 87, 283, 4, 0]\n",
      "[1, 99, 44, 6, 2, 5, 63, 87, 283, 4, 0]\n",
      "[1, 99, 44, 6, 2, 5, 63, 87, 283, 4, 0]\n",
      "[0, 99, 44, 6, 2, 5, 63, 87, 283, 4, 1]\n",
      "[0, 44, 99, 6, 2, 5, 63, 87, 283, 4, 1]\n",
      "[0, 6, 99, 44, 2, 5, 63, 87, 283, 4, 1]\n",
      "[0, 2, 99, 44, 6, 5, 63, 87, 283, 4, 1]\n",
      "[0, 2, 99, 44, 6, 5, 63, 87, 283, 4, 1]\n",
      "[0, 2, 99, 44, 6, 5, 63, 87, 283, 4, 1]\n",
      "[0, 2, 99, 44, 6, 5, 63, 87, 283, 4, 1]\n",
      "[0, 2, 99, 44, 6, 5, 63, 87, 283, 4, 1]\n",
      "[0, 2, 99, 44, 6, 5, 63, 87, 283, 4, 1]\n",
      "[0, 1, 99, 44, 6, 5, 63, 87, 283, 4, 2]\n",
      "[0, 1, 44, 99, 6, 5, 63, 87, 283, 4, 2]\n",
      "[0, 1, 6, 99, 44, 5, 63, 87, 283, 4, 2]\n",
      "[0, 1, 5, 99, 44, 6, 63, 87, 283, 4, 2]\n",
      "[0, 1, 5, 99, 44, 6, 63, 87, 283, 4, 2]\n",
      "[0, 1, 5, 99, 44, 6, 63, 87, 283, 4, 2]\n",
      "[0, 1, 5, 99, 44, 6, 63, 87, 283, 4, 2]\n",
      "[0, 1, 4, 99, 44, 6, 63, 87, 283, 5, 2]\n",
      "[0, 1, 2, 99, 44, 6, 63, 87, 283, 5, 4]\n",
      "[0, 1, 2, 44, 99, 6, 63, 87, 283, 5, 4]\n",
      "[0, 1, 2, 6, 99, 44, 63, 87, 283, 5, 4]\n",
      "[0, 1, 2, 6, 99, 44, 63, 87, 283, 5, 4]\n",
      "[0, 1, 2, 6, 99, 44, 63, 87, 283, 5, 4]\n",
      "[0, 1, 2, 6, 99, 44, 63, 87, 283, 5, 4]\n",
      "[0, 1, 2, 5, 99, 44, 63, 87, 283, 6, 4]\n",
      "[0, 1, 2, 4, 99, 44, 63, 87, 283, 6, 5]\n",
      "[0, 1, 2, 4, 44, 99, 63, 87, 283, 6, 5]\n",
      "[0, 1, 2, 4, 44, 99, 63, 87, 283, 6, 5]\n",
      "[0, 1, 2, 4, 44, 99, 63, 87, 283, 6, 5]\n",
      "[0, 1, 2, 4, 44, 99, 63, 87, 283, 6, 5]\n",
      "[0, 1, 2, 4, 6, 99, 63, 87, 283, 44, 5]\n",
      "[0, 1, 2, 4, 5, 99, 63, 87, 283, 44, 6]\n",
      "[0, 1, 2, 4, 5, 63, 99, 87, 283, 44, 6]\n",
      "[0, 1, 2, 4, 5, 63, 99, 87, 283, 44, 6]\n",
      "[0, 1, 2, 4, 5, 63, 99, 87, 283, 44, 6]\n",
      "[0, 1, 2, 4, 5, 44, 99, 87, 283, 63, 6]\n",
      "[0, 1, 2, 4, 5, 6, 99, 87, 283, 63, 44]\n",
      "[0, 1, 2, 4, 5, 6, 87, 99, 283, 63, 44]\n",
      "[0, 1, 2, 4, 5, 6, 87, 99, 283, 63, 44]\n",
      "[0, 1, 2, 4, 5, 6, 63, 99, 283, 87, 44]\n",
      "[0, 1, 2, 4, 5, 6, 44, 99, 283, 87, 63]\n",
      "[0, 1, 2, 4, 5, 6, 44, 99, 283, 87, 63]\n",
      "[0, 1, 2, 4, 5, 6, 44, 87, 283, 99, 63]\n",
      "[0, 1, 2, 4, 5, 6, 44, 63, 283, 99, 87]\n",
      "[0, 1, 2, 4, 5, 6, 44, 63, 99, 283, 87]\n",
      "[0, 1, 2, 4, 5, 6, 44, 63, 87, 283, 99]\n",
      "[0, 1, 2, 4, 5, 6, 44, 63, 87, 99, 283]\n",
      "the total of loop: 55\n"
     ]
    }
   ],
   "source": [
    "numbers = [99, 44, 6, 2, 1, 5, 63, 87, 283, 4, 0]\n",
    "\n",
    "def selection_sort(numbers):\n",
    "    count = 0\n",
    "    for i in range(0,len(numbers)):\n",
    "        for j in range(i+1,len(numbers)):\n",
    "            count += 1\n",
    "            if numbers[i]>numbers[j]:\n",
    "                temp = numbers[i]\n",
    "                numbers[i] = numbers[j]\n",
    "                numbers[j] = temp\n",
    "            print(numbers)\n",
    "    print('the total of loop:',count)\n",
    "    \n",
    "selection_sort(numbers)\n"
   ]
  }
 ],
 "metadata": {
  "kernelspec": {
   "display_name": "Python 3",
   "language": "python",
   "name": "python3"
  },
  "language_info": {
   "codemirror_mode": {
    "name": "ipython",
    "version": 3
   },
   "file_extension": ".py",
   "mimetype": "text/x-python",
   "name": "python",
   "nbconvert_exporter": "python",
   "pygments_lexer": "ipython3",
   "version": "3.7.6"
  }
 },
 "nbformat": 4,
 "nbformat_minor": 4
}
